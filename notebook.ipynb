{
 "cells": [
  {
   "cell_type": "markdown",
   "source": "",
   "metadata": {
    "tags": [],
    "cell_id": "00000-2c9764c1-359a-4b8b-88ed-aada9cb4b846",
    "deepnote_cell_type": "markdown"
   }
  },
  {
   "cell_type": "code",
   "metadata": {
    "tags": [],
    "cell_id": "00000-49f43523-262f-4850-95cf-8ae5c26fc1d3",
    "deepnote_to_be_reexecuted": false,
    "source_hash": "54eef00b",
    "execution_start": 1636910316393,
    "execution_millis": 2511,
    "deepnote_cell_type": "code"
   },
   "source": "# import libraries\nimport pandas as pd\nimport matplotlib.pyplot as plt",
   "execution_count": 1,
   "outputs": []
  },
  {
   "cell_type": "code",
   "metadata": {
    "tags": [],
    "cell_id": "00001-2fc71b4a-d07c-417e-badc-ea0a76cf0d6e",
    "deepnote_to_be_reexecuted": false,
    "source_hash": "86feddc",
    "execution_start": 1636910319066,
    "execution_millis": 513,
    "deepnote_cell_type": "code"
   },
   "source": "# read cvs file from URL\ndf = pd.read_csv('https://raw.githubusercontent.com/tangaritas/birds_food/main/pajarines.csv')\ndf",
   "execution_count": 2,
   "outputs": [
    {
     "output_type": "execute_result",
     "execution_count": 2,
     "data": {
      "application/vnd.deepnote.dataframe.v2+json": {
       "row_count": 199,
       "column_count": 14,
       "columns": [
        {
         "name": "Fecha",
         "dtype": "object",
         "stats": {
          "unique_count": 94,
          "nan_count": 89,
          "categories": [
           {
            "name": "1/5/2021",
            "count": 3
           },
           {
            "name": "93 others",
            "count": 107
           },
           {
            "name": "Missing",
            "count": 89
           }
          ]
         }
        },
        {
         "name": "Hora",
         "dtype": "object",
         "stats": {
          "unique_count": 20,
          "nan_count": 89,
          "categories": [
           {
            "name": "10:00",
            "count": 11
           },
           {
            "name": "19 others",
            "count": 99
           },
           {
            "name": "Missing",
            "count": 89
           }
          ]
         }
        },
        {
         "name": "Descripción",
         "dtype": "object",
         "stats": {
          "unique_count": 4,
          "nan_count": 89,
          "categories": [
           {
            "name": "Plátano",
            "count": 70
           },
           {
            "name": "3 others",
            "count": 40
           },
           {
            "name": "Missing",
            "count": 89
           }
          ]
         }
        },
        {
         "name": "Cantidad(g)",
         "dtype": "float64",
         "stats": {
          "unique_count": 85,
          "nan_count": 89,
          "min": "72.0",
          "max": "416.0",
          "histogram": [
           {
            "bin_start": 72,
            "bin_end": 106.4,
            "count": 5
           },
           {
            "bin_start": 106.4,
            "bin_end": 140.8,
            "count": 16
           },
           {
            "bin_start": 140.8,
            "bin_end": 175.2,
            "count": 12
           },
           {
            "bin_start": 175.2,
            "bin_end": 209.6,
            "count": 11
           },
           {
            "bin_start": 209.6,
            "bin_end": 244,
            "count": 16
           },
           {
            "bin_start": 244,
            "bin_end": 278.4,
            "count": 25
           },
           {
            "bin_start": 278.4,
            "bin_end": 312.79999999999995,
            "count": 17
           },
           {
            "bin_start": 312.79999999999995,
            "bin_end": 347.2,
            "count": 7
           },
           {
            "bin_start": 347.2,
            "bin_end": 381.59999999999997,
            "count": 0
           },
           {
            "bin_start": 381.59999999999997,
            "bin_end": 416,
            "count": 1
           }
          ]
         }
        },
        {
         "name": "Costo($)",
         "dtype": "float64",
         "stats": {
          "unique_count": 94,
          "nan_count": 0,
          "min": "0.0",
          "max": "988.0",
          "histogram": [
           {
            "bin_start": 0,
            "bin_end": 98.8,
            "count": 89
           },
           {
            "bin_start": 98.8,
            "bin_end": 197.6,
            "count": 2
           },
           {
            "bin_start": 197.6,
            "bin_end": 296.4,
            "count": 12
           },
           {
            "bin_start": 296.4,
            "bin_end": 395.2,
            "count": 21
           },
           {
            "bin_start": 395.2,
            "bin_end": 494,
            "count": 8
           },
           {
            "bin_start": 494,
            "bin_end": 592.8,
            "count": 26
           },
           {
            "bin_start": 592.8,
            "bin_end": 691.6,
            "count": 22
           },
           {
            "bin_start": 691.6,
            "bin_end": 790.4,
            "count": 14
           },
           {
            "bin_start": 790.4,
            "bin_end": 889.1999999999999,
            "count": 3
           },
           {
            "bin_start": 889.1999999999999,
            "bin_end": 988,
            "count": 2
           }
          ]
         }
        },
        {
         "name": "Mes",
         "dtype": "object",
         "stats": {
          "unique_count": 5,
          "nan_count": 89,
          "categories": [
           {
            "name": "mayo",
            "count": 31
           },
           {
            "name": "4 others",
            "count": 79
           },
           {
            "name": "Missing",
            "count": 89
           }
          ]
         }
        },
        {
         "name": "Unnamed: 6",
         "dtype": "float64",
         "stats": {
          "unique_count": 0,
          "nan_count": 199,
          "min": null,
          "max": null,
          "histogram": [
           {
            "bin_start": 0,
            "bin_end": 0.1,
            "count": 0
           },
           {
            "bin_start": 0.1,
            "bin_end": 0.2,
            "count": 0
           },
           {
            "bin_start": 0.2,
            "bin_end": 0.30000000000000004,
            "count": 0
           },
           {
            "bin_start": 0.30000000000000004,
            "bin_end": 0.4,
            "count": 0
           },
           {
            "bin_start": 0.4,
            "bin_end": 0.5,
            "count": 0
           },
           {
            "bin_start": 0.5,
            "bin_end": 0.6000000000000001,
            "count": 0
           },
           {
            "bin_start": 0.6000000000000001,
            "bin_end": 0.7000000000000001,
            "count": 0
           },
           {
            "bin_start": 0.7000000000000001,
            "bin_end": 0.8,
            "count": 0
           },
           {
            "bin_start": 0.8,
            "bin_end": 0.9,
            "count": 0
           },
           {
            "bin_start": 0.9,
            "bin_end": 1,
            "count": 0
           }
          ]
         }
        },
        {
         "name": "Comidita",
         "dtype": "object",
         "stats": {
          "unique_count": 4,
          "nan_count": 195,
          "categories": [
           {
            "name": "Banano",
            "count": 1
           },
           {
            "name": "3 others",
            "count": 3
           },
           {
            "name": "Missing",
            "count": 195
           }
          ]
         }
        },
        {
         "name": "Costo/g ($)",
         "dtype": "float64",
         "stats": {
          "unique_count": 4,
          "nan_count": 195,
          "min": "1.7",
          "max": "4.0",
          "histogram": [
           {
            "bin_start": 1.7,
            "bin_end": 1.93,
            "count": 1
           },
           {
            "bin_start": 1.93,
            "bin_end": 2.16,
            "count": 0
           },
           {
            "bin_start": 2.16,
            "bin_end": 2.3899999999999997,
            "count": 1
           },
           {
            "bin_start": 2.3899999999999997,
            "bin_end": 2.62,
            "count": 1
           },
           {
            "bin_start": 2.62,
            "bin_end": 2.8499999999999996,
            "count": 0
           },
           {
            "bin_start": 2.8499999999999996,
            "bin_end": 3.08,
            "count": 0
           },
           {
            "bin_start": 3.08,
            "bin_end": 3.3099999999999996,
            "count": 0
           },
           {
            "bin_start": 3.3099999999999996,
            "bin_end": 3.54,
            "count": 0
           },
           {
            "bin_start": 3.54,
            "bin_end": 3.7699999999999996,
            "count": 0
           },
           {
            "bin_start": 3.7699999999999996,
            "bin_end": 4,
            "count": 1
           }
          ]
         }
        },
        {
         "name": "Unnamed: 9",
         "dtype": "float64",
         "stats": {
          "unique_count": 0,
          "nan_count": 199,
          "min": null,
          "max": null,
          "histogram": [
           {
            "bin_start": 0,
            "bin_end": 0.1,
            "count": 0
           },
           {
            "bin_start": 0.1,
            "bin_end": 0.2,
            "count": 0
           },
           {
            "bin_start": 0.2,
            "bin_end": 0.30000000000000004,
            "count": 0
           },
           {
            "bin_start": 0.30000000000000004,
            "bin_end": 0.4,
            "count": 0
           },
           {
            "bin_start": 0.4,
            "bin_end": 0.5,
            "count": 0
           },
           {
            "bin_start": 0.5,
            "bin_end": 0.6000000000000001,
            "count": 0
           },
           {
            "bin_start": 0.6000000000000001,
            "bin_end": 0.7000000000000001,
            "count": 0
           },
           {
            "bin_start": 0.7000000000000001,
            "bin_end": 0.8,
            "count": 0
           },
           {
            "bin_start": 0.8,
            "bin_end": 0.9,
            "count": 0
           },
           {
            "bin_start": 0.9,
            "bin_end": 1,
            "count": 0
           }
          ]
         }
        },
        {
         "name": "Unnamed: 10",
         "dtype": "float64",
         "stats": {
          "unique_count": 0,
          "nan_count": 199,
          "min": null,
          "max": null,
          "histogram": [
           {
            "bin_start": 0,
            "bin_end": 0.1,
            "count": 0
           },
           {
            "bin_start": 0.1,
            "bin_end": 0.2,
            "count": 0
           },
           {
            "bin_start": 0.2,
            "bin_end": 0.30000000000000004,
            "count": 0
           },
           {
            "bin_start": 0.30000000000000004,
            "bin_end": 0.4,
            "count": 0
           },
           {
            "bin_start": 0.4,
            "bin_end": 0.5,
            "count": 0
           },
           {
            "bin_start": 0.5,
            "bin_end": 0.6000000000000001,
            "count": 0
           },
           {
            "bin_start": 0.6000000000000001,
            "bin_end": 0.7000000000000001,
            "count": 0
           },
           {
            "bin_start": 0.7000000000000001,
            "bin_end": 0.8,
            "count": 0
           },
           {
            "bin_start": 0.8,
            "bin_end": 0.9,
            "count": 0
           },
           {
            "bin_start": 0.9,
            "bin_end": 1,
            "count": 0
           }
          ]
         }
        },
        {
         "name": "Unnamed: 11",
         "dtype": "float64",
         "stats": {
          "unique_count": 0,
          "nan_count": 199,
          "min": null,
          "max": null,
          "histogram": [
           {
            "bin_start": 0,
            "bin_end": 0.1,
            "count": 0
           },
           {
            "bin_start": 0.1,
            "bin_end": 0.2,
            "count": 0
           },
           {
            "bin_start": 0.2,
            "bin_end": 0.30000000000000004,
            "count": 0
           },
           {
            "bin_start": 0.30000000000000004,
            "bin_end": 0.4,
            "count": 0
           },
           {
            "bin_start": 0.4,
            "bin_end": 0.5,
            "count": 0
           },
           {
            "bin_start": 0.5,
            "bin_end": 0.6000000000000001,
            "count": 0
           },
           {
            "bin_start": 0.6000000000000001,
            "bin_end": 0.7000000000000001,
            "count": 0
           },
           {
            "bin_start": 0.7000000000000001,
            "bin_end": 0.8,
            "count": 0
           },
           {
            "bin_start": 0.8,
            "bin_end": 0.9,
            "count": 0
           },
           {
            "bin_start": 0.9,
            "bin_end": 1,
            "count": 0
           }
          ]
         }
        },
        {
         "name": "Unnamed: 12",
         "dtype": "float64",
         "stats": {
          "unique_count": 0,
          "nan_count": 199,
          "min": null,
          "max": null,
          "histogram": [
           {
            "bin_start": 0,
            "bin_end": 0.1,
            "count": 0
           },
           {
            "bin_start": 0.1,
            "bin_end": 0.2,
            "count": 0
           },
           {
            "bin_start": 0.2,
            "bin_end": 0.30000000000000004,
            "count": 0
           },
           {
            "bin_start": 0.30000000000000004,
            "bin_end": 0.4,
            "count": 0
           },
           {
            "bin_start": 0.4,
            "bin_end": 0.5,
            "count": 0
           },
           {
            "bin_start": 0.5,
            "bin_end": 0.6000000000000001,
            "count": 0
           },
           {
            "bin_start": 0.6000000000000001,
            "bin_end": 0.7000000000000001,
            "count": 0
           },
           {
            "bin_start": 0.7000000000000001,
            "bin_end": 0.8,
            "count": 0
           },
           {
            "bin_start": 0.8,
            "bin_end": 0.9,
            "count": 0
           },
           {
            "bin_start": 0.9,
            "bin_end": 1,
            "count": 0
           }
          ]
         }
        },
        {
         "name": "Unnamed: 13",
         "dtype": "float64",
         "stats": {
          "unique_count": 1,
          "nan_count": 198,
          "min": "64.0",
          "max": "64.0",
          "histogram": [
           {
            "bin_start": 63.5,
            "bin_end": 63.6,
            "count": 0
           },
           {
            "bin_start": 63.6,
            "bin_end": 63.7,
            "count": 0
           },
           {
            "bin_start": 63.7,
            "bin_end": 63.8,
            "count": 0
           },
           {
            "bin_start": 63.8,
            "bin_end": 63.9,
            "count": 0
           },
           {
            "bin_start": 63.9,
            "bin_end": 64,
            "count": 0
           },
           {
            "bin_start": 64,
            "bin_end": 64.1,
            "count": 1
           },
           {
            "bin_start": 64.1,
            "bin_end": 64.2,
            "count": 0
           },
           {
            "bin_start": 64.2,
            "bin_end": 64.3,
            "count": 0
           },
           {
            "bin_start": 64.3,
            "bin_end": 64.4,
            "count": 0
           },
           {
            "bin_start": 64.4,
            "bin_end": 64.5,
            "count": 0
           }
          ]
         }
        },
        {
         "name": "_deepnote_index_column",
         "dtype": "int64"
        }
       ],
       "rows_top": [
        {
         "Fecha": "1/3/2021",
         "Hora": "9:00",
         "Descripción": "Papaya",
         "Cantidad(g)": 227,
         "Costo($)": 385.9,
         "Mes": "marzo",
         "Unnamed: 6": "nan",
         "Comidita": "Banano",
         "Costo/g ($)": 2.4,
         "Unnamed: 9": "nan",
         "Unnamed: 10": "nan",
         "Unnamed: 11": "nan",
         "Unnamed: 12": "nan",
         "Unnamed: 13": "nan",
         "_deepnote_index_column": 0
        },
        {
         "Fecha": "1/3/2021",
         "Hora": "9:00",
         "Descripción": "Plátano",
         "Cantidad(g)": 165,
         "Costo($)": 379.5,
         "Mes": "marzo",
         "Unnamed: 6": "nan",
         "Comidita": "Papaya",
         "Costo/g ($)": 1.7,
         "Unnamed: 9": "nan",
         "Unnamed: 10": "nan",
         "Unnamed: 11": "nan",
         "Unnamed: 12": "nan",
         "Unnamed: 13": "nan",
         "_deepnote_index_column": 1
        },
        {
         "Fecha": "2/3/2021",
         "Hora": "9:30",
         "Descripción": "Plátano",
         "Cantidad(g)": 164,
         "Costo($)": 377.2,
         "Mes": "marzo",
         "Unnamed: 6": "nan",
         "Comidita": "Plátano",
         "Costo/g ($)": 2.3,
         "Unnamed: 9": "nan",
         "Unnamed: 10": "nan",
         "Unnamed: 11": "nan",
         "Unnamed: 12": "nan",
         "Unnamed: 13": "nan",
         "_deepnote_index_column": 2
        },
        {
         "Fecha": "3/3/2021",
         "Hora": "8:30",
         "Descripción": "Banano",
         "Cantidad(g)": 148,
         "Costo($)": 355.2,
         "Mes": "marzo",
         "Unnamed: 6": "nan",
         "Comidita": "Naranja",
         "Costo/g ($)": 4,
         "Unnamed: 9": "nan",
         "Unnamed: 10": "nan",
         "Unnamed: 11": "nan",
         "Unnamed: 12": "nan",
         "Unnamed: 13": "nan",
         "_deepnote_index_column": 3
        },
        {
         "Fecha": "3/3/2021",
         "Hora": "13:00",
         "Descripción": "Banano",
         "Cantidad(g)": 124,
         "Costo($)": 297.6,
         "Mes": "marzo",
         "Unnamed: 6": "nan",
         "Comidita": "nan",
         "Costo/g ($)": "nan",
         "Unnamed: 9": "nan",
         "Unnamed: 10": "nan",
         "Unnamed: 11": "nan",
         "Unnamed: 12": "nan",
         "Unnamed: 13": "nan",
         "_deepnote_index_column": 4
        },
        {
         "Fecha": "4/3/2021",
         "Hora": "7:00",
         "Descripción": "Banano",
         "Cantidad(g)": 136,
         "Costo($)": 326.4,
         "Mes": "marzo",
         "Unnamed: 6": "nan",
         "Comidita": "nan",
         "Costo/g ($)": "nan",
         "Unnamed: 9": "nan",
         "Unnamed: 10": "nan",
         "Unnamed: 11": "nan",
         "Unnamed: 12": "nan",
         "Unnamed: 13": "nan",
         "_deepnote_index_column": 5
        },
        {
         "Fecha": "5/3/2021",
         "Hora": "6:30",
         "Descripción": "Banano",
         "Cantidad(g)": 112,
         "Costo($)": 268.8,
         "Mes": "marzo",
         "Unnamed: 6": "nan",
         "Comidita": "nan",
         "Costo/g ($)": "nan",
         "Unnamed: 9": "nan",
         "Unnamed: 10": "nan",
         "Unnamed: 11": "nan",
         "Unnamed: 12": "nan",
         "Unnamed: 13": "nan",
         "_deepnote_index_column": 6
        },
        {
         "Fecha": "6/3/2021",
         "Hora": "14:00",
         "Descripción": "Plátano",
         "Cantidad(g)": 274,
         "Costo($)": 630.2,
         "Mes": "marzo",
         "Unnamed: 6": "nan",
         "Comidita": "nan",
         "Costo/g ($)": "nan",
         "Unnamed: 9": "nan",
         "Unnamed: 10": "nan",
         "Unnamed: 11": "nan",
         "Unnamed: 12": "nan",
         "Unnamed: 13": "nan",
         "_deepnote_index_column": 7
        },
        {
         "Fecha": "7/3/2021",
         "Hora": "11:00",
         "Descripción": "Papaya",
         "Cantidad(g)": 222,
         "Costo($)": 377.4,
         "Mes": "marzo",
         "Unnamed: 6": "nan",
         "Comidita": "nan",
         "Costo/g ($)": "nan",
         "Unnamed: 9": "nan",
         "Unnamed: 10": "nan",
         "Unnamed: 11": "nan",
         "Unnamed: 12": "nan",
         "Unnamed: 13": "nan",
         "_deepnote_index_column": 8
        },
        {
         "Fecha": "8/3/2021",
         "Hora": "7:30",
         "Descripción": "Banano",
         "Cantidad(g)": 125,
         "Costo($)": 300,
         "Mes": "marzo",
         "Unnamed: 6": "nan",
         "Comidita": "nan",
         "Costo/g ($)": "nan",
         "Unnamed: 9": "nan",
         "Unnamed: 10": "nan",
         "Unnamed: 11": "nan",
         "Unnamed: 12": "nan",
         "Unnamed: 13": "nan",
         "_deepnote_index_column": 9
        },
        {
         "Fecha": "9/3/2021",
         "Hora": "8:00",
         "Descripción": "Banano",
         "Cantidad(g)": 139,
         "Costo($)": 333.6,
         "Mes": "marzo",
         "Unnamed: 6": "nan",
         "Comidita": "nan",
         "Costo/g ($)": "nan",
         "Unnamed: 9": "nan",
         "Unnamed: 10": "nan",
         "Unnamed: 11": "nan",
         "Unnamed: 12": "nan",
         "Unnamed: 13": "nan",
         "_deepnote_index_column": 10
        },
        {
         "Fecha": "10/3/2021",
         "Hora": "7:30",
         "Descripción": "Plátano",
         "Cantidad(g)": 275,
         "Costo($)": 632.5,
         "Mes": "marzo",
         "Unnamed: 6": "nan",
         "Comidita": "nan",
         "Costo/g ($)": "nan",
         "Unnamed: 9": "nan",
         "Unnamed: 10": "nan",
         "Unnamed: 11": "nan",
         "Unnamed: 12": "nan",
         "Unnamed: 13": "nan",
         "_deepnote_index_column": 11
        },
        {
         "Fecha": "11/3/2021",
         "Hora": "9:30",
         "Descripción": "Plátano",
         "Cantidad(g)": 248,
         "Costo($)": 570.4,
         "Mes": "marzo",
         "Unnamed: 6": "nan",
         "Comidita": "nan",
         "Costo/g ($)": "nan",
         "Unnamed: 9": "nan",
         "Unnamed: 10": "nan",
         "Unnamed: 11": "nan",
         "Unnamed: 12": "nan",
         "Unnamed: 13": "nan",
         "_deepnote_index_column": 12
        },
        {
         "Fecha": "13/3/2021",
         "Hora": "10:30",
         "Descripción": "Plátano",
         "Cantidad(g)": 281,
         "Costo($)": 646.3,
         "Mes": "marzo",
         "Unnamed: 6": "nan",
         "Comidita": "nan",
         "Costo/g ($)": "nan",
         "Unnamed: 9": "nan",
         "Unnamed: 10": "nan",
         "Unnamed: 11": "nan",
         "Unnamed: 12": "nan",
         "Unnamed: 13": "nan",
         "_deepnote_index_column": 13
        },
        {
         "Fecha": "14/3/2021",
         "Hora": "8:00",
         "Descripción": "Plátano",
         "Cantidad(g)": 230,
         "Costo($)": 529,
         "Mes": "marzo",
         "Unnamed: 6": "nan",
         "Comidita": "nan",
         "Costo/g ($)": "nan",
         "Unnamed: 9": "nan",
         "Unnamed: 10": "nan",
         "Unnamed: 11": "nan",
         "Unnamed: 12": "nan",
         "Unnamed: 13": "nan",
         "_deepnote_index_column": 14
        },
        {
         "Fecha": "15/3/2021",
         "Hora": "8:30",
         "Descripción": "Plátano",
         "Cantidad(g)": 227,
         "Costo($)": 522.1,
         "Mes": "marzo",
         "Unnamed: 6": "nan",
         "Comidita": "nan",
         "Costo/g ($)": "nan",
         "Unnamed: 9": "nan",
         "Unnamed: 10": "nan",
         "Unnamed: 11": "nan",
         "Unnamed: 12": "nan",
         "Unnamed: 13": "nan",
         "_deepnote_index_column": 15
        },
        {
         "Fecha": "16/3/2021",
         "Hora": "7:30",
         "Descripción": "Plátano",
         "Cantidad(g)": 297,
         "Costo($)": 683.1,
         "Mes": "marzo",
         "Unnamed: 6": "nan",
         "Comidita": "nan",
         "Costo/g ($)": "nan",
         "Unnamed: 9": "nan",
         "Unnamed: 10": "nan",
         "Unnamed: 11": "nan",
         "Unnamed: 12": "nan",
         "Unnamed: 13": "nan",
         "_deepnote_index_column": 16
        },
        {
         "Fecha": "18/3/2021",
         "Hora": "9:00",
         "Descripción": "Plátano",
         "Cantidad(g)": 125,
         "Costo($)": 287.5,
         "Mes": "marzo",
         "Unnamed: 6": "nan",
         "Comidita": "nan",
         "Costo/g ($)": "nan",
         "Unnamed: 9": "nan",
         "Unnamed: 10": "nan",
         "Unnamed: 11": "nan",
         "Unnamed: 12": "nan",
         "Unnamed: 13": "nan",
         "_deepnote_index_column": 17
        },
        {
         "Fecha": "18/3/2021",
         "Hora": "12:00",
         "Descripción": "Banano",
         "Cantidad(g)": 164,
         "Costo($)": 393.6,
         "Mes": "marzo",
         "Unnamed: 6": "nan",
         "Comidita": "nan",
         "Costo/g ($)": "nan",
         "Unnamed: 9": "nan",
         "Unnamed: 10": "nan",
         "Unnamed: 11": "nan",
         "Unnamed: 12": "nan",
         "Unnamed: 13": "nan",
         "_deepnote_index_column": 18
        },
        {
         "Fecha": "19/3/2021",
         "Hora": "7:00",
         "Descripción": "Plátano",
         "Cantidad(g)": 246,
         "Costo($)": 565.8,
         "Mes": "marzo",
         "Unnamed: 6": "nan",
         "Comidita": "nan",
         "Costo/g ($)": "nan",
         "Unnamed: 9": "nan",
         "Unnamed: 10": "nan",
         "Unnamed: 11": "nan",
         "Unnamed: 12": "nan",
         "Unnamed: 13": "nan",
         "_deepnote_index_column": 19
        },
        {
         "Fecha": "23/3/2021",
         "Hora": "10:00",
         "Descripción": "Plátano",
         "Cantidad(g)": 246,
         "Costo($)": 565.8,
         "Mes": "marzo",
         "Unnamed: 6": "nan",
         "Comidita": "nan",
         "Costo/g ($)": "nan",
         "Unnamed: 9": "nan",
         "Unnamed: 10": "nan",
         "Unnamed: 11": "nan",
         "Unnamed: 12": "nan",
         "Unnamed: 13": "nan",
         "_deepnote_index_column": 20
        },
        {
         "Fecha": "24/3/2021",
         "Hora": "12:00",
         "Descripción": "Banano",
         "Cantidad(g)": 325,
         "Costo($)": 780,
         "Mes": "marzo",
         "Unnamed: 6": "nan",
         "Comidita": "nan",
         "Costo/g ($)": "nan",
         "Unnamed: 9": "nan",
         "Unnamed: 10": "nan",
         "Unnamed: 11": "nan",
         "Unnamed: 12": "nan",
         "Unnamed: 13": "nan",
         "_deepnote_index_column": 21
        },
        {
         "Fecha": "6/4/2021",
         "Hora": "6:00",
         "Descripción": "Banano",
         "Cantidad(g)": 150,
         "Costo($)": 360,
         "Mes": "abril",
         "Unnamed: 6": "nan",
         "Comidita": "nan",
         "Costo/g ($)": "nan",
         "Unnamed: 9": "nan",
         "Unnamed: 10": "nan",
         "Unnamed: 11": "nan",
         "Unnamed: 12": "nan",
         "Unnamed: 13": "nan",
         "_deepnote_index_column": 22
        },
        {
         "Fecha": "6/4/2021",
         "Hora": "10:30",
         "Descripción": "Papaya",
         "Cantidad(g)": 117,
         "Costo($)": 198.9,
         "Mes": "abril",
         "Unnamed: 6": "nan",
         "Comidita": "nan",
         "Costo/g ($)": "nan",
         "Unnamed: 9": "nan",
         "Unnamed: 10": "nan",
         "Unnamed: 11": "nan",
         "Unnamed: 12": "nan",
         "Unnamed: 13": "nan",
         "_deepnote_index_column": 23
        },
        {
         "Fecha": "7/4/2021",
         "Hora": "12:30",
         "Descripción": "Plátano",
         "Cantidad(g)": 194,
         "Costo($)": 446.2,
         "Mes": "abril",
         "Unnamed: 6": "nan",
         "Comidita": "nan",
         "Costo/g ($)": "nan",
         "Unnamed: 9": "nan",
         "Unnamed: 10": "nan",
         "Unnamed: 11": "nan",
         "Unnamed: 12": "nan",
         "Unnamed: 13": "nan",
         "_deepnote_index_column": 24
        },
        {
         "Fecha": "10/4/2021",
         "Hora": "13:00",
         "Descripción": "Plátano",
         "Cantidad(g)": 195,
         "Costo($)": 448.5,
         "Mes": "abril",
         "Unnamed: 6": "nan",
         "Comidita": "nan",
         "Costo/g ($)": "nan",
         "Unnamed: 9": "nan",
         "Unnamed: 10": "nan",
         "Unnamed: 11": "nan",
         "Unnamed: 12": "nan",
         "Unnamed: 13": "nan",
         "_deepnote_index_column": 25
        },
        {
         "Fecha": "14/4/2021",
         "Hora": "8:30",
         "Descripción": "Plátano",
         "Cantidad(g)": 165,
         "Costo($)": 379.5,
         "Mes": "abril",
         "Unnamed: 6": "nan",
         "Comidita": "nan",
         "Costo/g ($)": "nan",
         "Unnamed: 9": "nan",
         "Unnamed: 10": "nan",
         "Unnamed: 11": "nan",
         "Unnamed: 12": "nan",
         "Unnamed: 13": "nan",
         "_deepnote_index_column": 26
        },
        {
         "Fecha": "15/4/2021",
         "Hora": "9:30",
         "Descripción": "Plátano",
         "Cantidad(g)": 145,
         "Costo($)": 333.5,
         "Mes": "abril",
         "Unnamed: 6": "nan",
         "Comidita": "nan",
         "Costo/g ($)": "nan",
         "Unnamed: 9": "nan",
         "Unnamed: 10": "nan",
         "Unnamed: 11": "nan",
         "Unnamed: 12": "nan",
         "Unnamed: 13": "nan",
         "_deepnote_index_column": 27
        },
        {
         "Fecha": "16/4/2021",
         "Hora": "12:00",
         "Descripción": "Plátano",
         "Cantidad(g)": 225,
         "Costo($)": 517.5,
         "Mes": "abril",
         "Unnamed: 6": "nan",
         "Comidita": "nan",
         "Costo/g ($)": "nan",
         "Unnamed: 9": "nan",
         "Unnamed: 10": "nan",
         "Unnamed: 11": "nan",
         "Unnamed: 12": "nan",
         "Unnamed: 13": "nan",
         "_deepnote_index_column": 28
        },
        {
         "Fecha": "19/4/2021",
         "Hora": "8:30",
         "Descripción": "Plátano",
         "Cantidad(g)": 215,
         "Costo($)": 494.5,
         "Mes": "abril",
         "Unnamed: 6": "nan",
         "Comidita": "nan",
         "Costo/g ($)": "nan",
         "Unnamed: 9": "nan",
         "Unnamed: 10": "nan",
         "Unnamed: 11": "nan",
         "Unnamed: 12": "nan",
         "Unnamed: 13": "nan",
         "_deepnote_index_column": 29
        },
        {
         "Fecha": "21/4/2021",
         "Hora": "10:00",
         "Descripción": "Plátano",
         "Cantidad(g)": 194,
         "Costo($)": 446.2,
         "Mes": "abril",
         "Unnamed: 6": "nan",
         "Comidita": "nan",
         "Costo/g ($)": "nan",
         "Unnamed: 9": "nan",
         "Unnamed: 10": "nan",
         "Unnamed: 11": "nan",
         "Unnamed: 12": "nan",
         "Unnamed: 13": "nan",
         "_deepnote_index_column": 30
        },
        {
         "Fecha": "23/4/2021",
         "Hora": "6:30",
         "Descripción": "Plátano",
         "Cantidad(g)": 215,
         "Costo($)": 494.5,
         "Mes": "abril",
         "Unnamed: 6": "nan",
         "Comidita": "nan",
         "Costo/g ($)": "nan",
         "Unnamed: 9": "nan",
         "Unnamed: 10": "nan",
         "Unnamed: 11": "nan",
         "Unnamed: 12": "nan",
         "Unnamed: 13": "nan",
         "_deepnote_index_column": 31
        },
        {
         "Fecha": "25/4/2021",
         "Hora": "9:00",
         "Descripción": "Plátano",
         "Cantidad(g)": 269,
         "Costo($)": 618.7,
         "Mes": "abril",
         "Unnamed: 6": "nan",
         "Comidita": "nan",
         "Costo/g ($)": "nan",
         "Unnamed: 9": "nan",
         "Unnamed: 10": "nan",
         "Unnamed: 11": "nan",
         "Unnamed: 12": "nan",
         "Unnamed: 13": "nan",
         "_deepnote_index_column": 32
        },
        {
         "Fecha": "26/4/2021",
         "Hora": "11:00",
         "Descripción": "Plátano",
         "Cantidad(g)": 289,
         "Costo($)": 664.7,
         "Mes": "abril",
         "Unnamed: 6": "nan",
         "Comidita": "nan",
         "Costo/g ($)": "nan",
         "Unnamed: 9": "nan",
         "Unnamed: 10": "nan",
         "Unnamed: 11": "nan",
         "Unnamed: 12": "nan",
         "Unnamed: 13": "nan",
         "_deepnote_index_column": 33
        },
        {
         "Fecha": "27/4/2021",
         "Hora": "9:00",
         "Descripción": "Plátano",
         "Cantidad(g)": 284,
         "Costo($)": 653.2,
         "Mes": "abril",
         "Unnamed: 6": "nan",
         "Comidita": "nan",
         "Costo/g ($)": "nan",
         "Unnamed: 9": "nan",
         "Unnamed: 10": "nan",
         "Unnamed: 11": "nan",
         "Unnamed: 12": "nan",
         "Unnamed: 13": "nan",
         "_deepnote_index_column": 34
        }
       ],
       "rows_bottom": [
        {
         "Fecha": "nan",
         "Hora": "nan",
         "Descripción": "nan",
         "Cantidad(g)": "nan",
         "Costo($)": 0,
         "Mes": "nan",
         "Unnamed: 6": "nan",
         "Comidita": "nan",
         "Costo/g ($)": "nan",
         "Unnamed: 9": "nan",
         "Unnamed: 10": "nan",
         "Unnamed: 11": "nan",
         "Unnamed: 12": "nan",
         "Unnamed: 13": "nan",
         "_deepnote_index_column": 163
        },
        {
         "Fecha": "nan",
         "Hora": "nan",
         "Descripción": "nan",
         "Cantidad(g)": "nan",
         "Costo($)": 0,
         "Mes": "nan",
         "Unnamed: 6": "nan",
         "Comidita": "nan",
         "Costo/g ($)": "nan",
         "Unnamed: 9": "nan",
         "Unnamed: 10": "nan",
         "Unnamed: 11": "nan",
         "Unnamed: 12": "nan",
         "Unnamed: 13": "nan",
         "_deepnote_index_column": 164
        },
        {
         "Fecha": "nan",
         "Hora": "nan",
         "Descripción": "nan",
         "Cantidad(g)": "nan",
         "Costo($)": 0,
         "Mes": "nan",
         "Unnamed: 6": "nan",
         "Comidita": "nan",
         "Costo/g ($)": "nan",
         "Unnamed: 9": "nan",
         "Unnamed: 10": "nan",
         "Unnamed: 11": "nan",
         "Unnamed: 12": "nan",
         "Unnamed: 13": "nan",
         "_deepnote_index_column": 165
        },
        {
         "Fecha": "nan",
         "Hora": "nan",
         "Descripción": "nan",
         "Cantidad(g)": "nan",
         "Costo($)": 0,
         "Mes": "nan",
         "Unnamed: 6": "nan",
         "Comidita": "nan",
         "Costo/g ($)": "nan",
         "Unnamed: 9": "nan",
         "Unnamed: 10": "nan",
         "Unnamed: 11": "nan",
         "Unnamed: 12": "nan",
         "Unnamed: 13": "nan",
         "_deepnote_index_column": 166
        },
        {
         "Fecha": "nan",
         "Hora": "nan",
         "Descripción": "nan",
         "Cantidad(g)": "nan",
         "Costo($)": 0,
         "Mes": "nan",
         "Unnamed: 6": "nan",
         "Comidita": "nan",
         "Costo/g ($)": "nan",
         "Unnamed: 9": "nan",
         "Unnamed: 10": "nan",
         "Unnamed: 11": "nan",
         "Unnamed: 12": "nan",
         "Unnamed: 13": "nan",
         "_deepnote_index_column": 167
        },
        {
         "Fecha": "nan",
         "Hora": "nan",
         "Descripción": "nan",
         "Cantidad(g)": "nan",
         "Costo($)": 0,
         "Mes": "nan",
         "Unnamed: 6": "nan",
         "Comidita": "nan",
         "Costo/g ($)": "nan",
         "Unnamed: 9": "nan",
         "Unnamed: 10": "nan",
         "Unnamed: 11": "nan",
         "Unnamed: 12": "nan",
         "Unnamed: 13": "nan",
         "_deepnote_index_column": 168
        },
        {
         "Fecha": "nan",
         "Hora": "nan",
         "Descripción": "nan",
         "Cantidad(g)": "nan",
         "Costo($)": 0,
         "Mes": "nan",
         "Unnamed: 6": "nan",
         "Comidita": "nan",
         "Costo/g ($)": "nan",
         "Unnamed: 9": "nan",
         "Unnamed: 10": "nan",
         "Unnamed: 11": "nan",
         "Unnamed: 12": "nan",
         "Unnamed: 13": "nan",
         "_deepnote_index_column": 169
        },
        {
         "Fecha": "nan",
         "Hora": "nan",
         "Descripción": "nan",
         "Cantidad(g)": "nan",
         "Costo($)": 0,
         "Mes": "nan",
         "Unnamed: 6": "nan",
         "Comidita": "nan",
         "Costo/g ($)": "nan",
         "Unnamed: 9": "nan",
         "Unnamed: 10": "nan",
         "Unnamed: 11": "nan",
         "Unnamed: 12": "nan",
         "Unnamed: 13": "nan",
         "_deepnote_index_column": 170
        },
        {
         "Fecha": "nan",
         "Hora": "nan",
         "Descripción": "nan",
         "Cantidad(g)": "nan",
         "Costo($)": 0,
         "Mes": "nan",
         "Unnamed: 6": "nan",
         "Comidita": "nan",
         "Costo/g ($)": "nan",
         "Unnamed: 9": "nan",
         "Unnamed: 10": "nan",
         "Unnamed: 11": "nan",
         "Unnamed: 12": "nan",
         "Unnamed: 13": "nan",
         "_deepnote_index_column": 171
        },
        {
         "Fecha": "nan",
         "Hora": "nan",
         "Descripción": "nan",
         "Cantidad(g)": "nan",
         "Costo($)": 0,
         "Mes": "nan",
         "Unnamed: 6": "nan",
         "Comidita": "nan",
         "Costo/g ($)": "nan",
         "Unnamed: 9": "nan",
         "Unnamed: 10": "nan",
         "Unnamed: 11": "nan",
         "Unnamed: 12": "nan",
         "Unnamed: 13": "nan",
         "_deepnote_index_column": 172
        },
        {
         "Fecha": "nan",
         "Hora": "nan",
         "Descripción": "nan",
         "Cantidad(g)": "nan",
         "Costo($)": 0,
         "Mes": "nan",
         "Unnamed: 6": "nan",
         "Comidita": "nan",
         "Costo/g ($)": "nan",
         "Unnamed: 9": "nan",
         "Unnamed: 10": "nan",
         "Unnamed: 11": "nan",
         "Unnamed: 12": "nan",
         "Unnamed: 13": "nan",
         "_deepnote_index_column": 173
        },
        {
         "Fecha": "nan",
         "Hora": "nan",
         "Descripción": "nan",
         "Cantidad(g)": "nan",
         "Costo($)": 0,
         "Mes": "nan",
         "Unnamed: 6": "nan",
         "Comidita": "nan",
         "Costo/g ($)": "nan",
         "Unnamed: 9": "nan",
         "Unnamed: 10": "nan",
         "Unnamed: 11": "nan",
         "Unnamed: 12": "nan",
         "Unnamed: 13": "nan",
         "_deepnote_index_column": 174
        },
        {
         "Fecha": "nan",
         "Hora": "nan",
         "Descripción": "nan",
         "Cantidad(g)": "nan",
         "Costo($)": 0,
         "Mes": "nan",
         "Unnamed: 6": "nan",
         "Comidita": "nan",
         "Costo/g ($)": "nan",
         "Unnamed: 9": "nan",
         "Unnamed: 10": "nan",
         "Unnamed: 11": "nan",
         "Unnamed: 12": "nan",
         "Unnamed: 13": "nan",
         "_deepnote_index_column": 175
        },
        {
         "Fecha": "nan",
         "Hora": "nan",
         "Descripción": "nan",
         "Cantidad(g)": "nan",
         "Costo($)": 0,
         "Mes": "nan",
         "Unnamed: 6": "nan",
         "Comidita": "nan",
         "Costo/g ($)": "nan",
         "Unnamed: 9": "nan",
         "Unnamed: 10": "nan",
         "Unnamed: 11": "nan",
         "Unnamed: 12": "nan",
         "Unnamed: 13": "nan",
         "_deepnote_index_column": 176
        },
        {
         "Fecha": "nan",
         "Hora": "nan",
         "Descripción": "nan",
         "Cantidad(g)": "nan",
         "Costo($)": 0,
         "Mes": "nan",
         "Unnamed: 6": "nan",
         "Comidita": "nan",
         "Costo/g ($)": "nan",
         "Unnamed: 9": "nan",
         "Unnamed: 10": "nan",
         "Unnamed: 11": "nan",
         "Unnamed: 12": "nan",
         "Unnamed: 13": "nan",
         "_deepnote_index_column": 177
        },
        {
         "Fecha": "nan",
         "Hora": "nan",
         "Descripción": "nan",
         "Cantidad(g)": "nan",
         "Costo($)": 0,
         "Mes": "nan",
         "Unnamed: 6": "nan",
         "Comidita": "nan",
         "Costo/g ($)": "nan",
         "Unnamed: 9": "nan",
         "Unnamed: 10": "nan",
         "Unnamed: 11": "nan",
         "Unnamed: 12": "nan",
         "Unnamed: 13": "nan",
         "_deepnote_index_column": 178
        },
        {
         "Fecha": "nan",
         "Hora": "nan",
         "Descripción": "nan",
         "Cantidad(g)": "nan",
         "Costo($)": 0,
         "Mes": "nan",
         "Unnamed: 6": "nan",
         "Comidita": "nan",
         "Costo/g ($)": "nan",
         "Unnamed: 9": "nan",
         "Unnamed: 10": "nan",
         "Unnamed: 11": "nan",
         "Unnamed: 12": "nan",
         "Unnamed: 13": "nan",
         "_deepnote_index_column": 179
        },
        {
         "Fecha": "nan",
         "Hora": "nan",
         "Descripción": "nan",
         "Cantidad(g)": "nan",
         "Costo($)": 0,
         "Mes": "nan",
         "Unnamed: 6": "nan",
         "Comidita": "nan",
         "Costo/g ($)": "nan",
         "Unnamed: 9": "nan",
         "Unnamed: 10": "nan",
         "Unnamed: 11": "nan",
         "Unnamed: 12": "nan",
         "Unnamed: 13": "nan",
         "_deepnote_index_column": 180
        },
        {
         "Fecha": "nan",
         "Hora": "nan",
         "Descripción": "nan",
         "Cantidad(g)": "nan",
         "Costo($)": 0,
         "Mes": "nan",
         "Unnamed: 6": "nan",
         "Comidita": "nan",
         "Costo/g ($)": "nan",
         "Unnamed: 9": "nan",
         "Unnamed: 10": "nan",
         "Unnamed: 11": "nan",
         "Unnamed: 12": "nan",
         "Unnamed: 13": "nan",
         "_deepnote_index_column": 181
        },
        {
         "Fecha": "nan",
         "Hora": "nan",
         "Descripción": "nan",
         "Cantidad(g)": "nan",
         "Costo($)": 0,
         "Mes": "nan",
         "Unnamed: 6": "nan",
         "Comidita": "nan",
         "Costo/g ($)": "nan",
         "Unnamed: 9": "nan",
         "Unnamed: 10": "nan",
         "Unnamed: 11": "nan",
         "Unnamed: 12": "nan",
         "Unnamed: 13": "nan",
         "_deepnote_index_column": 182
        },
        {
         "Fecha": "nan",
         "Hora": "nan",
         "Descripción": "nan",
         "Cantidad(g)": "nan",
         "Costo($)": 0,
         "Mes": "nan",
         "Unnamed: 6": "nan",
         "Comidita": "nan",
         "Costo/g ($)": "nan",
         "Unnamed: 9": "nan",
         "Unnamed: 10": "nan",
         "Unnamed: 11": "nan",
         "Unnamed: 12": "nan",
         "Unnamed: 13": "nan",
         "_deepnote_index_column": 183
        },
        {
         "Fecha": "nan",
         "Hora": "nan",
         "Descripción": "nan",
         "Cantidad(g)": "nan",
         "Costo($)": 0,
         "Mes": "nan",
         "Unnamed: 6": "nan",
         "Comidita": "nan",
         "Costo/g ($)": "nan",
         "Unnamed: 9": "nan",
         "Unnamed: 10": "nan",
         "Unnamed: 11": "nan",
         "Unnamed: 12": "nan",
         "Unnamed: 13": "nan",
         "_deepnote_index_column": 184
        },
        {
         "Fecha": "nan",
         "Hora": "nan",
         "Descripción": "nan",
         "Cantidad(g)": "nan",
         "Costo($)": 0,
         "Mes": "nan",
         "Unnamed: 6": "nan",
         "Comidita": "nan",
         "Costo/g ($)": "nan",
         "Unnamed: 9": "nan",
         "Unnamed: 10": "nan",
         "Unnamed: 11": "nan",
         "Unnamed: 12": "nan",
         "Unnamed: 13": "nan",
         "_deepnote_index_column": 185
        },
        {
         "Fecha": "nan",
         "Hora": "nan",
         "Descripción": "nan",
         "Cantidad(g)": "nan",
         "Costo($)": 0,
         "Mes": "nan",
         "Unnamed: 6": "nan",
         "Comidita": "nan",
         "Costo/g ($)": "nan",
         "Unnamed: 9": "nan",
         "Unnamed: 10": "nan",
         "Unnamed: 11": "nan",
         "Unnamed: 12": "nan",
         "Unnamed: 13": "nan",
         "_deepnote_index_column": 186
        },
        {
         "Fecha": "nan",
         "Hora": "nan",
         "Descripción": "nan",
         "Cantidad(g)": "nan",
         "Costo($)": 0,
         "Mes": "nan",
         "Unnamed: 6": "nan",
         "Comidita": "nan",
         "Costo/g ($)": "nan",
         "Unnamed: 9": "nan",
         "Unnamed: 10": "nan",
         "Unnamed: 11": "nan",
         "Unnamed: 12": "nan",
         "Unnamed: 13": "nan",
         "_deepnote_index_column": 187
        },
        {
         "Fecha": "nan",
         "Hora": "nan",
         "Descripción": "nan",
         "Cantidad(g)": "nan",
         "Costo($)": 0,
         "Mes": "nan",
         "Unnamed: 6": "nan",
         "Comidita": "nan",
         "Costo/g ($)": "nan",
         "Unnamed: 9": "nan",
         "Unnamed: 10": "nan",
         "Unnamed: 11": "nan",
         "Unnamed: 12": "nan",
         "Unnamed: 13": "nan",
         "_deepnote_index_column": 188
        },
        {
         "Fecha": "nan",
         "Hora": "nan",
         "Descripción": "nan",
         "Cantidad(g)": "nan",
         "Costo($)": 0,
         "Mes": "nan",
         "Unnamed: 6": "nan",
         "Comidita": "nan",
         "Costo/g ($)": "nan",
         "Unnamed: 9": "nan",
         "Unnamed: 10": "nan",
         "Unnamed: 11": "nan",
         "Unnamed: 12": "nan",
         "Unnamed: 13": "nan",
         "_deepnote_index_column": 189
        },
        {
         "Fecha": "nan",
         "Hora": "nan",
         "Descripción": "nan",
         "Cantidad(g)": "nan",
         "Costo($)": 0,
         "Mes": "nan",
         "Unnamed: 6": "nan",
         "Comidita": "nan",
         "Costo/g ($)": "nan",
         "Unnamed: 9": "nan",
         "Unnamed: 10": "nan",
         "Unnamed: 11": "nan",
         "Unnamed: 12": "nan",
         "Unnamed: 13": "nan",
         "_deepnote_index_column": 190
        },
        {
         "Fecha": "nan",
         "Hora": "nan",
         "Descripción": "nan",
         "Cantidad(g)": "nan",
         "Costo($)": 0,
         "Mes": "nan",
         "Unnamed: 6": "nan",
         "Comidita": "nan",
         "Costo/g ($)": "nan",
         "Unnamed: 9": "nan",
         "Unnamed: 10": "nan",
         "Unnamed: 11": "nan",
         "Unnamed: 12": "nan",
         "Unnamed: 13": "nan",
         "_deepnote_index_column": 191
        },
        {
         "Fecha": "nan",
         "Hora": "nan",
         "Descripción": "nan",
         "Cantidad(g)": "nan",
         "Costo($)": 0,
         "Mes": "nan",
         "Unnamed: 6": "nan",
         "Comidita": "nan",
         "Costo/g ($)": "nan",
         "Unnamed: 9": "nan",
         "Unnamed: 10": "nan",
         "Unnamed: 11": "nan",
         "Unnamed: 12": "nan",
         "Unnamed: 13": "nan",
         "_deepnote_index_column": 192
        },
        {
         "Fecha": "nan",
         "Hora": "nan",
         "Descripción": "nan",
         "Cantidad(g)": "nan",
         "Costo($)": 0,
         "Mes": "nan",
         "Unnamed: 6": "nan",
         "Comidita": "nan",
         "Costo/g ($)": "nan",
         "Unnamed: 9": "nan",
         "Unnamed: 10": "nan",
         "Unnamed: 11": "nan",
         "Unnamed: 12": "nan",
         "Unnamed: 13": "nan",
         "_deepnote_index_column": 193
        },
        {
         "Fecha": "nan",
         "Hora": "nan",
         "Descripción": "nan",
         "Cantidad(g)": "nan",
         "Costo($)": 0,
         "Mes": "nan",
         "Unnamed: 6": "nan",
         "Comidita": "nan",
         "Costo/g ($)": "nan",
         "Unnamed: 9": "nan",
         "Unnamed: 10": "nan",
         "Unnamed: 11": "nan",
         "Unnamed: 12": "nan",
         "Unnamed: 13": "nan",
         "_deepnote_index_column": 194
        },
        {
         "Fecha": "nan",
         "Hora": "nan",
         "Descripción": "nan",
         "Cantidad(g)": "nan",
         "Costo($)": 0,
         "Mes": "nan",
         "Unnamed: 6": "nan",
         "Comidita": "nan",
         "Costo/g ($)": "nan",
         "Unnamed: 9": "nan",
         "Unnamed: 10": "nan",
         "Unnamed: 11": "nan",
         "Unnamed: 12": "nan",
         "Unnamed: 13": "nan",
         "_deepnote_index_column": 195
        },
        {
         "Fecha": "nan",
         "Hora": "nan",
         "Descripción": "nan",
         "Cantidad(g)": "nan",
         "Costo($)": 0,
         "Mes": "nan",
         "Unnamed: 6": "nan",
         "Comidita": "nan",
         "Costo/g ($)": "nan",
         "Unnamed: 9": "nan",
         "Unnamed: 10": "nan",
         "Unnamed: 11": "nan",
         "Unnamed: 12": "nan",
         "Unnamed: 13": "nan",
         "_deepnote_index_column": 196
        },
        {
         "Fecha": "nan",
         "Hora": "nan",
         "Descripción": "nan",
         "Cantidad(g)": "nan",
         "Costo($)": 0,
         "Mes": "nan",
         "Unnamed: 6": "nan",
         "Comidita": "nan",
         "Costo/g ($)": "nan",
         "Unnamed: 9": "nan",
         "Unnamed: 10": "nan",
         "Unnamed: 11": "nan",
         "Unnamed: 12": "nan",
         "Unnamed: 13": "nan",
         "_deepnote_index_column": 197
        },
        {
         "Fecha": "nan",
         "Hora": "nan",
         "Descripción": "nan",
         "Cantidad(g)": "nan",
         "Costo($)": 0,
         "Mes": "nan",
         "Unnamed: 6": "nan",
         "Comidita": "nan",
         "Costo/g ($)": "nan",
         "Unnamed: 9": "nan",
         "Unnamed: 10": "nan",
         "Unnamed: 11": "nan",
         "Unnamed: 12": "nan",
         "Unnamed: 13": "nan",
         "_deepnote_index_column": 198
        }
       ]
      },
      "text/plain": "        Fecha   Hora Descripción  Cantidad(g)  Costo($)    Mes  Unnamed: 6  \\\n0    1/3/2021   9:00      Papaya        227.0     385.9  marzo         NaN   \n1    1/3/2021   9:00     Plátano        165.0     379.5  marzo         NaN   \n2    2/3/2021   9:30     Plátano        164.0     377.2  marzo         NaN   \n3    3/3/2021   8:30      Banano        148.0     355.2  marzo         NaN   \n4    3/3/2021  13:00      Banano        124.0     297.6  marzo         NaN   \n..        ...    ...         ...          ...       ...    ...         ...   \n194       NaN    NaN         NaN          NaN       0.0    NaN         NaN   \n195       NaN    NaN         NaN          NaN       0.0    NaN         NaN   \n196       NaN    NaN         NaN          NaN       0.0    NaN         NaN   \n197       NaN    NaN         NaN          NaN       0.0    NaN         NaN   \n198       NaN    NaN         NaN          NaN       0.0    NaN         NaN   \n\n    Comidita  Costo/g ($)  Unnamed: 9  Unnamed: 10  Unnamed: 11  Unnamed: 12  \\\n0     Banano          2.4         NaN          NaN          NaN          NaN   \n1     Papaya          1.7         NaN          NaN          NaN          NaN   \n2    Plátano          2.3         NaN          NaN          NaN          NaN   \n3    Naranja          4.0         NaN          NaN          NaN          NaN   \n4        NaN          NaN         NaN          NaN          NaN          NaN   \n..       ...          ...         ...          ...          ...          ...   \n194      NaN          NaN         NaN          NaN          NaN          NaN   \n195      NaN          NaN         NaN          NaN          NaN          NaN   \n196      NaN          NaN         NaN          NaN          NaN          NaN   \n197      NaN          NaN         NaN          NaN          NaN          NaN   \n198      NaN          NaN         NaN          NaN          NaN          NaN   \n\n     Unnamed: 13  \n0            NaN  \n1            NaN  \n2            NaN  \n3            NaN  \n4            NaN  \n..           ...  \n194          NaN  \n195          NaN  \n196          NaN  \n197          NaN  \n198          NaN  \n\n[199 rows x 14 columns]",
      "text/html": "<div>\n<style scoped>\n    .dataframe tbody tr th:only-of-type {\n        vertical-align: middle;\n    }\n\n    .dataframe tbody tr th {\n        vertical-align: top;\n    }\n\n    .dataframe thead th {\n        text-align: right;\n    }\n</style>\n<table border=\"1\" class=\"dataframe\">\n  <thead>\n    <tr style=\"text-align: right;\">\n      <th></th>\n      <th>Fecha</th>\n      <th>Hora</th>\n      <th>Descripción</th>\n      <th>Cantidad(g)</th>\n      <th>Costo($)</th>\n      <th>Mes</th>\n      <th>Unnamed: 6</th>\n      <th>Comidita</th>\n      <th>Costo/g ($)</th>\n      <th>Unnamed: 9</th>\n      <th>Unnamed: 10</th>\n      <th>Unnamed: 11</th>\n      <th>Unnamed: 12</th>\n      <th>Unnamed: 13</th>\n    </tr>\n  </thead>\n  <tbody>\n    <tr>\n      <th>0</th>\n      <td>1/3/2021</td>\n      <td>9:00</td>\n      <td>Papaya</td>\n      <td>227.0</td>\n      <td>385.9</td>\n      <td>marzo</td>\n      <td>NaN</td>\n      <td>Banano</td>\n      <td>2.4</td>\n      <td>NaN</td>\n      <td>NaN</td>\n      <td>NaN</td>\n      <td>NaN</td>\n      <td>NaN</td>\n    </tr>\n    <tr>\n      <th>1</th>\n      <td>1/3/2021</td>\n      <td>9:00</td>\n      <td>Plátano</td>\n      <td>165.0</td>\n      <td>379.5</td>\n      <td>marzo</td>\n      <td>NaN</td>\n      <td>Papaya</td>\n      <td>1.7</td>\n      <td>NaN</td>\n      <td>NaN</td>\n      <td>NaN</td>\n      <td>NaN</td>\n      <td>NaN</td>\n    </tr>\n    <tr>\n      <th>2</th>\n      <td>2/3/2021</td>\n      <td>9:30</td>\n      <td>Plátano</td>\n      <td>164.0</td>\n      <td>377.2</td>\n      <td>marzo</td>\n      <td>NaN</td>\n      <td>Plátano</td>\n      <td>2.3</td>\n      <td>NaN</td>\n      <td>NaN</td>\n      <td>NaN</td>\n      <td>NaN</td>\n      <td>NaN</td>\n    </tr>\n    <tr>\n      <th>3</th>\n      <td>3/3/2021</td>\n      <td>8:30</td>\n      <td>Banano</td>\n      <td>148.0</td>\n      <td>355.2</td>\n      <td>marzo</td>\n      <td>NaN</td>\n      <td>Naranja</td>\n      <td>4.0</td>\n      <td>NaN</td>\n      <td>NaN</td>\n      <td>NaN</td>\n      <td>NaN</td>\n      <td>NaN</td>\n    </tr>\n    <tr>\n      <th>4</th>\n      <td>3/3/2021</td>\n      <td>13:00</td>\n      <td>Banano</td>\n      <td>124.0</td>\n      <td>297.6</td>\n      <td>marzo</td>\n      <td>NaN</td>\n      <td>NaN</td>\n      <td>NaN</td>\n      <td>NaN</td>\n      <td>NaN</td>\n      <td>NaN</td>\n      <td>NaN</td>\n      <td>NaN</td>\n    </tr>\n    <tr>\n      <th>...</th>\n      <td>...</td>\n      <td>...</td>\n      <td>...</td>\n      <td>...</td>\n      <td>...</td>\n      <td>...</td>\n      <td>...</td>\n      <td>...</td>\n      <td>...</td>\n      <td>...</td>\n      <td>...</td>\n      <td>...</td>\n      <td>...</td>\n      <td>...</td>\n    </tr>\n    <tr>\n      <th>194</th>\n      <td>NaN</td>\n      <td>NaN</td>\n      <td>NaN</td>\n      <td>NaN</td>\n      <td>0.0</td>\n      <td>NaN</td>\n      <td>NaN</td>\n      <td>NaN</td>\n      <td>NaN</td>\n      <td>NaN</td>\n      <td>NaN</td>\n      <td>NaN</td>\n      <td>NaN</td>\n      <td>NaN</td>\n    </tr>\n    <tr>\n      <th>195</th>\n      <td>NaN</td>\n      <td>NaN</td>\n      <td>NaN</td>\n      <td>NaN</td>\n      <td>0.0</td>\n      <td>NaN</td>\n      <td>NaN</td>\n      <td>NaN</td>\n      <td>NaN</td>\n      <td>NaN</td>\n      <td>NaN</td>\n      <td>NaN</td>\n      <td>NaN</td>\n      <td>NaN</td>\n    </tr>\n    <tr>\n      <th>196</th>\n      <td>NaN</td>\n      <td>NaN</td>\n      <td>NaN</td>\n      <td>NaN</td>\n      <td>0.0</td>\n      <td>NaN</td>\n      <td>NaN</td>\n      <td>NaN</td>\n      <td>NaN</td>\n      <td>NaN</td>\n      <td>NaN</td>\n      <td>NaN</td>\n      <td>NaN</td>\n      <td>NaN</td>\n    </tr>\n    <tr>\n      <th>197</th>\n      <td>NaN</td>\n      <td>NaN</td>\n      <td>NaN</td>\n      <td>NaN</td>\n      <td>0.0</td>\n      <td>NaN</td>\n      <td>NaN</td>\n      <td>NaN</td>\n      <td>NaN</td>\n      <td>NaN</td>\n      <td>NaN</td>\n      <td>NaN</td>\n      <td>NaN</td>\n      <td>NaN</td>\n    </tr>\n    <tr>\n      <th>198</th>\n      <td>NaN</td>\n      <td>NaN</td>\n      <td>NaN</td>\n      <td>NaN</td>\n      <td>0.0</td>\n      <td>NaN</td>\n      <td>NaN</td>\n      <td>NaN</td>\n      <td>NaN</td>\n      <td>NaN</td>\n      <td>NaN</td>\n      <td>NaN</td>\n      <td>NaN</td>\n      <td>NaN</td>\n    </tr>\n  </tbody>\n</table>\n<p>199 rows × 14 columns</p>\n</div>"
     },
     "metadata": {}
    }
   ]
  },
  {
   "cell_type": "code",
   "metadata": {
    "tags": [],
    "cell_id": "00002-df8ab8bb-f40e-47dd-90e1-192567c6ce37",
    "deepnote_to_be_reexecuted": false,
    "source_hash": "351e532f",
    "execution_start": 1636910319605,
    "execution_millis": 23,
    "deepnote_cell_type": "code"
   },
   "source": "# to know data types in dataframe\ndf.dtypes",
   "execution_count": 3,
   "outputs": [
    {
     "output_type": "execute_result",
     "execution_count": 3,
     "data": {
      "text/plain": "Fecha           object\nHora            object\nDescripción     object\nCantidad(g)    float64\nCosto($)       float64\nMes             object\nUnnamed: 6     float64\nComidita        object\nCosto/g ($)    float64\nUnnamed: 9     float64\nUnnamed: 10    float64\nUnnamed: 11    float64\nUnnamed: 12    float64\nUnnamed: 13    float64\ndtype: object"
     },
     "metadata": {}
    }
   ]
  },
  {
   "cell_type": "code",
   "metadata": {
    "tags": [],
    "cell_id": "00003-85221659-1e70-4ea7-9203-11db8ac0160a",
    "deepnote_to_be_reexecuted": false,
    "source_hash": "1b40370",
    "execution_start": 1636910319650,
    "execution_millis": 19,
    "deepnote_cell_type": "code"
   },
   "source": "# drop irrelevant columns\ndf.drop(['Unnamed: 6', 'Comidita', 'Costo/g ($)', 'Unnamed: 9', 'Unnamed: 10', 'Unnamed: 11', 'Unnamed: 12', 'Unnamed: 13'], axis=1, inplace=True)",
   "execution_count": 4,
   "outputs": []
  },
  {
   "cell_type": "code",
   "metadata": {
    "tags": [],
    "cell_id": "00005-9e6671f4-066a-4394-9dbd-31812bfd1805",
    "deepnote_to_be_reexecuted": false,
    "source_hash": "7e02e772",
    "execution_start": 1636910319688,
    "execution_millis": 330,
    "deepnote_cell_type": "code"
   },
   "source": "# drop rows with missing values \ndf.dropna(inplace=True)\ndf",
   "execution_count": 5,
   "outputs": [
    {
     "output_type": "execute_result",
     "execution_count": 5,
     "data": {
      "application/vnd.deepnote.dataframe.v2+json": {
       "row_count": 110,
       "column_count": 6,
       "columns": [
        {
         "name": "Fecha",
         "dtype": "object",
         "stats": {
          "unique_count": 94,
          "nan_count": 0,
          "categories": [
           {
            "name": "1/5/2021",
            "count": 3
           },
           {
            "name": "1/3/2021",
            "count": 2
           },
           {
            "name": "92 others",
            "count": 105
           }
          ]
         }
        },
        {
         "name": "Hora",
         "dtype": "object",
         "stats": {
          "unique_count": 20,
          "nan_count": 0,
          "categories": [
           {
            "name": "10:00",
            "count": 11
           },
           {
            "name": "7:00",
            "count": 9
           },
           {
            "name": "18 others",
            "count": 90
           }
          ]
         }
        },
        {
         "name": "Descripción",
         "dtype": "object",
         "stats": {
          "unique_count": 4,
          "nan_count": 0,
          "categories": [
           {
            "name": "Plátano",
            "count": 70
           },
           {
            "name": "Banano",
            "count": 26
           },
           {
            "name": "2 others",
            "count": 14
           }
          ]
         }
        },
        {
         "name": "Cantidad(g)",
         "dtype": "float64",
         "stats": {
          "unique_count": 85,
          "nan_count": 0,
          "min": "72.0",
          "max": "416.0",
          "histogram": [
           {
            "bin_start": 72,
            "bin_end": 106.4,
            "count": 5
           },
           {
            "bin_start": 106.4,
            "bin_end": 140.8,
            "count": 16
           },
           {
            "bin_start": 140.8,
            "bin_end": 175.2,
            "count": 12
           },
           {
            "bin_start": 175.2,
            "bin_end": 209.6,
            "count": 11
           },
           {
            "bin_start": 209.6,
            "bin_end": 244,
            "count": 16
           },
           {
            "bin_start": 244,
            "bin_end": 278.4,
            "count": 25
           },
           {
            "bin_start": 278.4,
            "bin_end": 312.79999999999995,
            "count": 17
           },
           {
            "bin_start": 312.79999999999995,
            "bin_end": 347.2,
            "count": 7
           },
           {
            "bin_start": 347.2,
            "bin_end": 381.59999999999997,
            "count": 0
           },
           {
            "bin_start": 381.59999999999997,
            "bin_end": 416,
            "count": 1
           }
          ]
         }
        },
        {
         "name": "Costo($)",
         "dtype": "float64",
         "stats": {
          "unique_count": 93,
          "nan_count": 0,
          "min": "122.4",
          "max": "988.0",
          "histogram": [
           {
            "bin_start": 122.4,
            "bin_end": 208.96,
            "count": 3
           },
           {
            "bin_start": 208.96,
            "bin_end": 295.52,
            "count": 11
           },
           {
            "bin_start": 295.52,
            "bin_end": 382.08000000000004,
            "count": 17
           },
           {
            "bin_start": 382.08000000000004,
            "bin_end": 468.64,
            "count": 11
           },
           {
            "bin_start": 468.64,
            "bin_end": 555.2,
            "count": 14
           },
           {
            "bin_start": 555.2,
            "bin_end": 641.76,
            "count": 25
           },
           {
            "bin_start": 641.76,
            "bin_end": 728.32,
            "count": 20
           },
           {
            "bin_start": 728.32,
            "bin_end": 814.88,
            "count": 6
           },
           {
            "bin_start": 814.88,
            "bin_end": 901.4399999999999,
            "count": 1
           },
           {
            "bin_start": 901.4399999999999,
            "bin_end": 988,
            "count": 2
           }
          ]
         }
        },
        {
         "name": "Mes",
         "dtype": "object",
         "stats": {
          "unique_count": 5,
          "nan_count": 0,
          "categories": [
           {
            "name": "mayo",
            "count": 31
           },
           {
            "name": "junio",
            "count": 24
           },
           {
            "name": "3 others",
            "count": 55
           }
          ]
         }
        },
        {
         "name": "_deepnote_index_column",
         "dtype": "int64"
        }
       ],
       "rows_top": [
        {
         "Fecha": "1/3/2021",
         "Hora": "9:00",
         "Descripción": "Papaya",
         "Cantidad(g)": 227,
         "Costo($)": 385.9,
         "Mes": "marzo",
         "_deepnote_index_column": 0
        },
        {
         "Fecha": "1/3/2021",
         "Hora": "9:00",
         "Descripción": "Plátano",
         "Cantidad(g)": 165,
         "Costo($)": 379.5,
         "Mes": "marzo",
         "_deepnote_index_column": 1
        },
        {
         "Fecha": "2/3/2021",
         "Hora": "9:30",
         "Descripción": "Plátano",
         "Cantidad(g)": 164,
         "Costo($)": 377.2,
         "Mes": "marzo",
         "_deepnote_index_column": 2
        },
        {
         "Fecha": "3/3/2021",
         "Hora": "8:30",
         "Descripción": "Banano",
         "Cantidad(g)": 148,
         "Costo($)": 355.2,
         "Mes": "marzo",
         "_deepnote_index_column": 3
        },
        {
         "Fecha": "3/3/2021",
         "Hora": "13:00",
         "Descripción": "Banano",
         "Cantidad(g)": 124,
         "Costo($)": 297.6,
         "Mes": "marzo",
         "_deepnote_index_column": 4
        },
        {
         "Fecha": "4/3/2021",
         "Hora": "7:00",
         "Descripción": "Banano",
         "Cantidad(g)": 136,
         "Costo($)": 326.4,
         "Mes": "marzo",
         "_deepnote_index_column": 5
        },
        {
         "Fecha": "5/3/2021",
         "Hora": "6:30",
         "Descripción": "Banano",
         "Cantidad(g)": 112,
         "Costo($)": 268.8,
         "Mes": "marzo",
         "_deepnote_index_column": 6
        },
        {
         "Fecha": "6/3/2021",
         "Hora": "14:00",
         "Descripción": "Plátano",
         "Cantidad(g)": 274,
         "Costo($)": 630.2,
         "Mes": "marzo",
         "_deepnote_index_column": 7
        },
        {
         "Fecha": "7/3/2021",
         "Hora": "11:00",
         "Descripción": "Papaya",
         "Cantidad(g)": 222,
         "Costo($)": 377.4,
         "Mes": "marzo",
         "_deepnote_index_column": 8
        },
        {
         "Fecha": "8/3/2021",
         "Hora": "7:30",
         "Descripción": "Banano",
         "Cantidad(g)": 125,
         "Costo($)": 300,
         "Mes": "marzo",
         "_deepnote_index_column": 9
        },
        {
         "Fecha": "9/3/2021",
         "Hora": "8:00",
         "Descripción": "Banano",
         "Cantidad(g)": 139,
         "Costo($)": 333.6,
         "Mes": "marzo",
         "_deepnote_index_column": 10
        },
        {
         "Fecha": "10/3/2021",
         "Hora": "7:30",
         "Descripción": "Plátano",
         "Cantidad(g)": 275,
         "Costo($)": 632.5,
         "Mes": "marzo",
         "_deepnote_index_column": 11
        },
        {
         "Fecha": "11/3/2021",
         "Hora": "9:30",
         "Descripción": "Plátano",
         "Cantidad(g)": 248,
         "Costo($)": 570.4,
         "Mes": "marzo",
         "_deepnote_index_column": 12
        },
        {
         "Fecha": "13/3/2021",
         "Hora": "10:30",
         "Descripción": "Plátano",
         "Cantidad(g)": 281,
         "Costo($)": 646.3,
         "Mes": "marzo",
         "_deepnote_index_column": 13
        },
        {
         "Fecha": "14/3/2021",
         "Hora": "8:00",
         "Descripción": "Plátano",
         "Cantidad(g)": 230,
         "Costo($)": 529,
         "Mes": "marzo",
         "_deepnote_index_column": 14
        },
        {
         "Fecha": "15/3/2021",
         "Hora": "8:30",
         "Descripción": "Plátano",
         "Cantidad(g)": 227,
         "Costo($)": 522.1,
         "Mes": "marzo",
         "_deepnote_index_column": 15
        },
        {
         "Fecha": "16/3/2021",
         "Hora": "7:30",
         "Descripción": "Plátano",
         "Cantidad(g)": 297,
         "Costo($)": 683.1,
         "Mes": "marzo",
         "_deepnote_index_column": 16
        },
        {
         "Fecha": "18/3/2021",
         "Hora": "9:00",
         "Descripción": "Plátano",
         "Cantidad(g)": 125,
         "Costo($)": 287.5,
         "Mes": "marzo",
         "_deepnote_index_column": 17
        },
        {
         "Fecha": "18/3/2021",
         "Hora": "12:00",
         "Descripción": "Banano",
         "Cantidad(g)": 164,
         "Costo($)": 393.6,
         "Mes": "marzo",
         "_deepnote_index_column": 18
        },
        {
         "Fecha": "19/3/2021",
         "Hora": "7:00",
         "Descripción": "Plátano",
         "Cantidad(g)": 246,
         "Costo($)": 565.8,
         "Mes": "marzo",
         "_deepnote_index_column": 19
        },
        {
         "Fecha": "23/3/2021",
         "Hora": "10:00",
         "Descripción": "Plátano",
         "Cantidad(g)": 246,
         "Costo($)": 565.8,
         "Mes": "marzo",
         "_deepnote_index_column": 20
        },
        {
         "Fecha": "24/3/2021",
         "Hora": "12:00",
         "Descripción": "Banano",
         "Cantidad(g)": 325,
         "Costo($)": 780,
         "Mes": "marzo",
         "_deepnote_index_column": 21
        },
        {
         "Fecha": "6/4/2021",
         "Hora": "6:00",
         "Descripción": "Banano",
         "Cantidad(g)": 150,
         "Costo($)": 360,
         "Mes": "abril",
         "_deepnote_index_column": 22
        },
        {
         "Fecha": "6/4/2021",
         "Hora": "10:30",
         "Descripción": "Papaya",
         "Cantidad(g)": 117,
         "Costo($)": 198.9,
         "Mes": "abril",
         "_deepnote_index_column": 23
        },
        {
         "Fecha": "7/4/2021",
         "Hora": "12:30",
         "Descripción": "Plátano",
         "Cantidad(g)": 194,
         "Costo($)": 446.2,
         "Mes": "abril",
         "_deepnote_index_column": 24
        },
        {
         "Fecha": "10/4/2021",
         "Hora": "13:00",
         "Descripción": "Plátano",
         "Cantidad(g)": 195,
         "Costo($)": 448.5,
         "Mes": "abril",
         "_deepnote_index_column": 25
        },
        {
         "Fecha": "14/4/2021",
         "Hora": "8:30",
         "Descripción": "Plátano",
         "Cantidad(g)": 165,
         "Costo($)": 379.5,
         "Mes": "abril",
         "_deepnote_index_column": 26
        },
        {
         "Fecha": "15/4/2021",
         "Hora": "9:30",
         "Descripción": "Plátano",
         "Cantidad(g)": 145,
         "Costo($)": 333.5,
         "Mes": "abril",
         "_deepnote_index_column": 27
        },
        {
         "Fecha": "16/4/2021",
         "Hora": "12:00",
         "Descripción": "Plátano",
         "Cantidad(g)": 225,
         "Costo($)": 517.5,
         "Mes": "abril",
         "_deepnote_index_column": 28
        },
        {
         "Fecha": "19/4/2021",
         "Hora": "8:30",
         "Descripción": "Plátano",
         "Cantidad(g)": 215,
         "Costo($)": 494.5,
         "Mes": "abril",
         "_deepnote_index_column": 29
        },
        {
         "Fecha": "21/4/2021",
         "Hora": "10:00",
         "Descripción": "Plátano",
         "Cantidad(g)": 194,
         "Costo($)": 446.2,
         "Mes": "abril",
         "_deepnote_index_column": 30
        },
        {
         "Fecha": "23/4/2021",
         "Hora": "6:30",
         "Descripción": "Plátano",
         "Cantidad(g)": 215,
         "Costo($)": 494.5,
         "Mes": "abril",
         "_deepnote_index_column": 31
        },
        {
         "Fecha": "25/4/2021",
         "Hora": "9:00",
         "Descripción": "Plátano",
         "Cantidad(g)": 269,
         "Costo($)": 618.7,
         "Mes": "abril",
         "_deepnote_index_column": 32
        },
        {
         "Fecha": "26/4/2021",
         "Hora": "11:00",
         "Descripción": "Plátano",
         "Cantidad(g)": 289,
         "Costo($)": 664.7,
         "Mes": "abril",
         "_deepnote_index_column": 33
        },
        {
         "Fecha": "27/4/2021",
         "Hora": "9:00",
         "Descripción": "Plátano",
         "Cantidad(g)": 284,
         "Costo($)": 653.2,
         "Mes": "abril",
         "_deepnote_index_column": 34
        },
        {
         "Fecha": "28/4/2021",
         "Hora": "8:00",
         "Descripción": "Plátano",
         "Cantidad(g)": 292,
         "Costo($)": 671.6,
         "Mes": "abril",
         "_deepnote_index_column": 35
        },
        {
         "Fecha": "30/4/2021",
         "Hora": "13:00",
         "Descripción": "Banano",
         "Cantidad(g)": 139,
         "Costo($)": 333.6,
         "Mes": "abril",
         "_deepnote_index_column": 36
        },
        {
         "Fecha": "30/4/2021",
         "Hora": "16:00",
         "Descripción": "Banano",
         "Cantidad(g)": 107,
         "Costo($)": 256.8,
         "Mes": "abril",
         "_deepnote_index_column": 37
        },
        {
         "Fecha": "1/5/2021",
         "Hora": "10:00",
         "Descripción": "Banano",
         "Cantidad(g)": 111,
         "Costo($)": 266.4,
         "Mes": "mayo",
         "_deepnote_index_column": 38
        },
        {
         "Fecha": "1/5/2021",
         "Hora": "14:00",
         "Descripción": "Banano",
         "Cantidad(g)": 99,
         "Costo($)": 237.6,
         "Mes": "mayo",
         "_deepnote_index_column": 39
        },
        {
         "Fecha": "1/5/2021",
         "Hora": "16:30",
         "Descripción": "Banano",
         "Cantidad(g)": 99,
         "Costo($)": 237.6,
         "Mes": "mayo",
         "_deepnote_index_column": 40
        },
        {
         "Fecha": "2/5/2021",
         "Hora": "7:00",
         "Descripción": "Banano",
         "Cantidad(g)": 110,
         "Costo($)": 264,
         "Mes": "mayo",
         "_deepnote_index_column": 41
        },
        {
         "Fecha": "2/5/2021",
         "Hora": "10:00",
         "Descripción": "Banano",
         "Cantidad(g)": 115,
         "Costo($)": 276,
         "Mes": "mayo",
         "_deepnote_index_column": 42
        },
        {
         "Fecha": "3/5/2021",
         "Hora": "8:00",
         "Descripción": "Banano",
         "Cantidad(g)": 105,
         "Costo($)": 252,
         "Mes": "mayo",
         "_deepnote_index_column": 43
        },
        {
         "Fecha": "3/5/2021",
         "Hora": "13:30",
         "Descripción": "Plátano",
         "Cantidad(g)": 246,
         "Costo($)": 565.8,
         "Mes": "mayo",
         "_deepnote_index_column": 44
        },
        {
         "Fecha": "4/5/2021",
         "Hora": "10:00",
         "Descripción": "Plátano",
         "Cantidad(g)": 238,
         "Costo($)": 547.4,
         "Mes": "mayo",
         "_deepnote_index_column": 45
        },
        {
         "Fecha": "5/5/2021",
         "Hora": "7:00",
         "Descripción": "Plátano",
         "Cantidad(g)": 261,
         "Costo($)": 600.3,
         "Mes": "mayo",
         "_deepnote_index_column": 46
        },
        {
         "Fecha": "6/5/2021",
         "Hora": "6:00",
         "Descripción": "Plátano",
         "Cantidad(g)": 310,
         "Costo($)": 713,
         "Mes": "mayo",
         "_deepnote_index_column": 47
        },
        {
         "Fecha": "7/5/2021",
         "Hora": "11:00",
         "Descripción": "Papaya",
         "Cantidad(g)": 180,
         "Costo($)": 306,
         "Mes": "mayo",
         "_deepnote_index_column": 48
        },
        {
         "Fecha": "7/5/2021",
         "Hora": "16:00",
         "Descripción": "Papaya",
         "Cantidad(g)": 72,
         "Costo($)": 122.4,
         "Mes": "mayo",
         "_deepnote_index_column": 49
        },
        {
         "Fecha": "8/5/2021",
         "Hora": "9:00",
         "Descripción": "Papaya",
         "Cantidad(g)": 184,
         "Costo($)": 312.8,
         "Mes": "mayo",
         "_deepnote_index_column": 50
        },
        {
         "Fecha": "9/5/2021",
         "Hora": "8:30",
         "Descripción": "Banano",
         "Cantidad(g)": 160,
         "Costo($)": 384,
         "Mes": "mayo",
         "_deepnote_index_column": 51
        },
        {
         "Fecha": "9/5/2021",
         "Hora": "10:30",
         "Descripción": "Papaya",
         "Cantidad(g)": 110,
         "Costo($)": 187,
         "Mes": "mayo",
         "_deepnote_index_column": 52
        },
        {
         "Fecha": "10/5/2021",
         "Hora": "7:00",
         "Descripción": "Papaya",
         "Cantidad(g)": 132,
         "Costo($)": 224.4,
         "Mes": "mayo",
         "_deepnote_index_column": 53
        },
        {
         "Fecha": "11/5/2021",
         "Hora": "10:00",
         "Descripción": "Naranja",
         "Cantidad(g)": 209,
         "Costo($)": 836,
         "Mes": "mayo",
         "_deepnote_index_column": 54
        },
        {
         "Fecha": "12/5/2021",
         "Hora": "13:30",
         "Descripción": "Naranja",
         "Cantidad(g)": 246,
         "Costo($)": 984,
         "Mes": "mayo",
         "_deepnote_index_column": 55
        },
        {
         "Fecha": "13/5/2021",
         "Hora": "6:00",
         "Descripción": "Naranja",
         "Cantidad(g)": 198,
         "Costo($)": 792,
         "Mes": "mayo",
         "_deepnote_index_column": 56
        },
        {
         "Fecha": "14/5/2021",
         "Hora": "6:30",
         "Descripción": "Naranja",
         "Cantidad(g)": 197,
         "Costo($)": 788,
         "Mes": "mayo",
         "_deepnote_index_column": 57
        },
        {
         "Fecha": "15/5/2021",
         "Hora": "9:30",
         "Descripción": "Plátano",
         "Cantidad(g)": 320,
         "Costo($)": 736,
         "Mes": "mayo",
         "_deepnote_index_column": 58
        },
        {
         "Fecha": "16/5/2021",
         "Hora": "8:30",
         "Descripción": "Papaya",
         "Cantidad(g)": 416,
         "Costo($)": 707.2,
         "Mes": "mayo",
         "_deepnote_index_column": 59
        },
        {
         "Fecha": "17/5/2021",
         "Hora": "9:00",
         "Descripción": "Plátano",
         "Cantidad(g)": 263,
         "Costo($)": 604.9,
         "Mes": "mayo",
         "_deepnote_index_column": 60
        },
        {
         "Fecha": "18/5/2021",
         "Hora": "11:30",
         "Descripción": "Plátano",
         "Cantidad(g)": 252,
         "Costo($)": 579.6,
         "Mes": "mayo",
         "_deepnote_index_column": 61
        },
        {
         "Fecha": "19/5/2021",
         "Hora": "10:00",
         "Descripción": "Plátano",
         "Cantidad(g)": 243,
         "Costo($)": 558.9,
         "Mes": "mayo",
         "_deepnote_index_column": 62
        },
        {
         "Fecha": "20/5/2021",
         "Hora": "12:30",
         "Descripción": "Plátano",
         "Cantidad(g)": 308,
         "Costo($)": 708.4,
         "Mes": "mayo",
         "_deepnote_index_column": 63
        },
        {
         "Fecha": "21/5/2021",
         "Hora": "15:00",
         "Descripción": "Plátano",
         "Cantidad(g)": 314,
         "Costo($)": 722.2,
         "Mes": "mayo",
         "_deepnote_index_column": 64
        },
        {
         "Fecha": "23/5/2021",
         "Hora": "8:00",
         "Descripción": "Plátano",
         "Cantidad(g)": 275,
         "Costo($)": 632.5,
         "Mes": "mayo",
         "_deepnote_index_column": 65
        },
        {
         "Fecha": "24/5/2021",
         "Hora": "8:00",
         "Descripción": "Naranja",
         "Cantidad(g)": 247,
         "Costo($)": 988,
         "Mes": "mayo",
         "_deepnote_index_column": 66
        },
        {
         "Fecha": "24/5/2021",
         "Hora": "16:30",
         "Descripción": "Plátano",
         "Cantidad(g)": 315,
         "Costo($)": 724.5,
         "Mes": "mayo",
         "_deepnote_index_column": 67
        },
        {
         "Fecha": "25/5/2021",
         "Hora": "16:30",
         "Descripción": "Plátano",
         "Cantidad(g)": 304,
         "Costo($)": 699.2,
         "Mes": "mayo",
         "_deepnote_index_column": 68
        },
        {
         "Fecha": "1/6/2021",
         "Hora": "8:30",
         "Descripción": "Plátano",
         "Cantidad(g)": 200,
         "Costo($)": 460,
         "Mes": "junio",
         "_deepnote_index_column": 69
        },
        {
         "Fecha": "2/6/2021",
         "Hora": "7:00",
         "Descripción": "Plátano",
         "Cantidad(g)": 284,
         "Costo($)": 653.2,
         "Mes": "junio",
         "_deepnote_index_column": 70
        },
        {
         "Fecha": "3/6/2021",
         "Hora": "8:30",
         "Descripción": "Plátano",
         "Cantidad(g)": 285,
         "Costo($)": 655.5,
         "Mes": "junio",
         "_deepnote_index_column": 71
        },
        {
         "Fecha": "4/6/2021",
         "Hora": "10:00",
         "Descripción": "Plátano",
         "Cantidad(g)": 235,
         "Costo($)": 540.5,
         "Mes": "junio",
         "_deepnote_index_column": 72
        },
        {
         "Fecha": "5/6/2021",
         "Hora": "12:00",
         "Descripción": "Plátano",
         "Cantidad(g)": 303,
         "Costo($)": 696.9,
         "Mes": "junio",
         "_deepnote_index_column": 73
        },
        {
         "Fecha": "6/6/2021",
         "Hora": "14:00",
         "Descripción": "Plátano",
         "Cantidad(g)": 184,
         "Costo($)": 423.2,
         "Mes": "junio",
         "_deepnote_index_column": 74
        },
        {
         "Fecha": "8/6/2021",
         "Hora": "14:00",
         "Descripción": "Plátano",
         "Cantidad(g)": 260,
         "Costo($)": 598,
         "Mes": "junio",
         "_deepnote_index_column": 75
        },
        {
         "Fecha": "9/6/2021",
         "Hora": "16:00",
         "Descripción": "Plátano",
         "Cantidad(g)": 131,
         "Costo($)": 301.3,
         "Mes": "junio",
         "_deepnote_index_column": 76
        },
        {
         "Fecha": "11/6/2021",
         "Hora": "6:00",
         "Descripción": "Banano",
         "Cantidad(g)": 220,
         "Costo($)": 528,
         "Mes": "junio",
         "_deepnote_index_column": 77
        },
        {
         "Fecha": "11/6/2021",
         "Hora": "14:00",
         "Descripción": "Banano",
         "Cantidad(g)": 227,
         "Costo($)": 544.8,
         "Mes": "junio",
         "_deepnote_index_column": 78
        },
        {
         "Fecha": "12/6/2021",
         "Hora": "9:30",
         "Descripción": "Banano",
         "Cantidad(g)": 228,
         "Costo($)": 547.2,
         "Mes": "junio",
         "_deepnote_index_column": 79
        },
        {
         "Fecha": "12/6/2021",
         "Hora": "15:00",
         "Descripción": "Banano",
         "Cantidad(g)": 202,
         "Costo($)": 484.8,
         "Mes": "junio",
         "_deepnote_index_column": 80
        },
        {
         "Fecha": "13/6/2021",
         "Hora": "13:00",
         "Descripción": "Banano",
         "Cantidad(g)": 94,
         "Costo($)": 225.6,
         "Mes": "junio",
         "_deepnote_index_column": 81
        },
        {
         "Fecha": "14/6/2021",
         "Hora": "10:00",
         "Descripción": "Banano",
         "Cantidad(g)": 165,
         "Costo($)": 396,
         "Mes": "junio",
         "_deepnote_index_column": 82
        },
        {
         "Fecha": "15/6/2021",
         "Hora": "9:30",
         "Descripción": "Plátano",
         "Cantidad(g)": 252,
         "Costo($)": 579.6,
         "Mes": "junio",
         "_deepnote_index_column": 83
        },
        {
         "Fecha": "16/6/2021",
         "Hora": "6:00",
         "Descripción": "Plátano",
         "Cantidad(g)": 167,
         "Costo($)": 384.1,
         "Mes": "junio",
         "_deepnote_index_column": 84
        },
        {
         "Fecha": "17/6/2021",
         "Hora": "6:00",
         "Descripción": "Plátano",
         "Cantidad(g)": 221,
         "Costo($)": 508.3,
         "Mes": "junio",
         "_deepnote_index_column": 85
        },
        {
         "Fecha": "18/6/2021",
         "Hora": "7:00",
         "Descripción": "Plátano",
         "Cantidad(g)": 284,
         "Costo($)": 653.2,
         "Mes": "junio",
         "_deepnote_index_column": 86
        },
        {
         "Fecha": "19/6/2021",
         "Hora": "8:00",
         "Descripción": "Plátano",
         "Cantidad(g)": 347,
         "Costo($)": 798.1,
         "Mes": "junio",
         "_deepnote_index_column": 87
        },
        {
         "Fecha": "21/6/2021",
         "Hora": "7:00",
         "Descripción": "Plátano",
         "Cantidad(g)": 251,
         "Costo($)": 577.3,
         "Mes": "junio",
         "_deepnote_index_column": 88
        },
        {
         "Fecha": "22/6/2021",
         "Hora": "7:30",
         "Descripción": "Plátano",
         "Cantidad(g)": 316,
         "Costo($)": 726.8,
         "Mes": "junio",
         "_deepnote_index_column": 89
        },
        {
         "Fecha": "23/6/2021",
         "Hora": "11:00",
         "Descripción": "Plátano",
         "Cantidad(g)": 290,
         "Costo($)": 667,
         "Mes": "junio",
         "_deepnote_index_column": 90
        },
        {
         "Fecha": "28/6/2021",
         "Hora": "15:00",
         "Descripción": "Plátano",
         "Cantidad(g)": 282,
         "Costo($)": 648.6,
         "Mes": "junio",
         "_deepnote_index_column": 91
        },
        {
         "Fecha": "30/6/2021",
         "Hora": "6:00",
         "Descripción": "Plátano",
         "Cantidad(g)": 252,
         "Costo($)": 579.6,
         "Mes": "junio",
         "_deepnote_index_column": 92
        },
        {
         "Fecha": "1/7/2021",
         "Hora": "7:00",
         "Descripción": "Plátano",
         "Cantidad(g)": 260,
         "Costo($)": 598,
         "Mes": "julio",
         "_deepnote_index_column": 93
        },
        {
         "Fecha": "2/7/2021",
         "Hora": "10:00",
         "Descripción": "Plátano",
         "Cantidad(g)": 265,
         "Costo($)": 609.5,
         "Mes": "julio",
         "_deepnote_index_column": 94
        },
        {
         "Fecha": "4/7/2021",
         "Hora": "10:00",
         "Descripción": "Plátano",
         "Cantidad(g)": 269,
         "Costo($)": 618.7,
         "Mes": "julio",
         "_deepnote_index_column": 95
        },
        {
         "Fecha": "5/7/2021",
         "Hora": "6:30",
         "Descripción": "Plátano",
         "Cantidad(g)": 245,
         "Costo($)": 563.5,
         "Mes": "julio",
         "_deepnote_index_column": 96
        },
        {
         "Fecha": "6/7/2021",
         "Hora": "6:30",
         "Descripción": "Banano",
         "Cantidad(g)": 171,
         "Costo($)": 410.4,
         "Mes": "julio",
         "_deepnote_index_column": 97
        },
        {
         "Fecha": "6/7/2021",
         "Hora": "14:00",
         "Descripción": "Banano",
         "Cantidad(g)": 156,
         "Costo($)": 374.4,
         "Mes": "julio",
         "_deepnote_index_column": 98
        },
        {
         "Fecha": "7/7/2021",
         "Hora": "13:00",
         "Descripción": "Plátano",
         "Cantidad(g)": 136,
         "Costo($)": 312.8,
         "Mes": "julio",
         "_deepnote_index_column": 99
        },
        {
         "Fecha": "8/7/2021",
         "Hora": "6:30",
         "Descripción": "Plátano",
         "Cantidad(g)": 254,
         "Costo($)": 584.2,
         "Mes": "julio",
         "_deepnote_index_column": 100
        },
        {
         "Fecha": "9/7/2021",
         "Hora": "6:30",
         "Descripción": "Plátano",
         "Cantidad(g)": 279,
         "Costo($)": 641.7,
         "Mes": "julio",
         "_deepnote_index_column": 101
        },
        {
         "Fecha": "10/7/2021",
         "Hora": "10:30",
         "Descripción": "Plátano",
         "Cantidad(g)": 259,
         "Costo($)": 595.7,
         "Mes": "julio",
         "_deepnote_index_column": 102
        },
        {
         "Fecha": "11/7/2021",
         "Hora": "12:00",
         "Descripción": "Plátano",
         "Cantidad(g)": 306,
         "Costo($)": 703.8,
         "Mes": "julio",
         "_deepnote_index_column": 103
        },
        {
         "Fecha": "12/7/2021",
         "Hora": "10:30",
         "Descripción": "Plátano",
         "Cantidad(g)": 236,
         "Costo($)": 542.8,
         "Mes": "julio",
         "_deepnote_index_column": 104
        },
        {
         "Fecha": "13/7/2021",
         "Hora": "10:30",
         "Descripción": "Plátano",
         "Cantidad(g)": 251,
         "Costo($)": 577.3,
         "Mes": "julio",
         "_deepnote_index_column": 105
        },
        {
         "Fecha": "14/7/2021",
         "Hora": "10:30",
         "Descripción": "Plátano",
         "Cantidad(g)": 238,
         "Costo($)": 547.4,
         "Mes": "julio",
         "_deepnote_index_column": 106
        },
        {
         "Fecha": "15/7/2021",
         "Hora": "7:30",
         "Descripción": "Plátano",
         "Cantidad(g)": 305,
         "Costo($)": 701.5,
         "Mes": "julio",
         "_deepnote_index_column": 107
        },
        {
         "Fecha": "15/7/2021",
         "Hora": "16:00",
         "Descripción": "Plátano",
         "Cantidad(g)": 249,
         "Costo($)": 572.7,
         "Mes": "julio",
         "_deepnote_index_column": 108
        },
        {
         "Fecha": "17/7/2021",
         "Hora": "9:00",
         "Descripción": "Plátano",
         "Cantidad(g)": 319,
         "Costo($)": 733.7,
         "Mes": "julio",
         "_deepnote_index_column": 109
        }
       ],
       "rows_bottom": null
      },
      "text/plain": "         Fecha   Hora Descripción  Cantidad(g)  Costo($)    Mes\n0     1/3/2021   9:00      Papaya        227.0     385.9  marzo\n1     1/3/2021   9:00     Plátano        165.0     379.5  marzo\n2     2/3/2021   9:30     Plátano        164.0     377.2  marzo\n3     3/3/2021   8:30      Banano        148.0     355.2  marzo\n4     3/3/2021  13:00      Banano        124.0     297.6  marzo\n..         ...    ...         ...          ...       ...    ...\n105  13/7/2021  10:30     Plátano        251.0     577.3  julio\n106  14/7/2021  10:30     Plátano        238.0     547.4  julio\n107  15/7/2021   7:30     Plátano        305.0     701.5  julio\n108  15/7/2021  16:00     Plátano        249.0     572.7  julio\n109  17/7/2021   9:00     Plátano        319.0     733.7  julio\n\n[110 rows x 6 columns]",
      "text/html": "<div>\n<style scoped>\n    .dataframe tbody tr th:only-of-type {\n        vertical-align: middle;\n    }\n\n    .dataframe tbody tr th {\n        vertical-align: top;\n    }\n\n    .dataframe thead th {\n        text-align: right;\n    }\n</style>\n<table border=\"1\" class=\"dataframe\">\n  <thead>\n    <tr style=\"text-align: right;\">\n      <th></th>\n      <th>Fecha</th>\n      <th>Hora</th>\n      <th>Descripción</th>\n      <th>Cantidad(g)</th>\n      <th>Costo($)</th>\n      <th>Mes</th>\n    </tr>\n  </thead>\n  <tbody>\n    <tr>\n      <th>0</th>\n      <td>1/3/2021</td>\n      <td>9:00</td>\n      <td>Papaya</td>\n      <td>227.0</td>\n      <td>385.9</td>\n      <td>marzo</td>\n    </tr>\n    <tr>\n      <th>1</th>\n      <td>1/3/2021</td>\n      <td>9:00</td>\n      <td>Plátano</td>\n      <td>165.0</td>\n      <td>379.5</td>\n      <td>marzo</td>\n    </tr>\n    <tr>\n      <th>2</th>\n      <td>2/3/2021</td>\n      <td>9:30</td>\n      <td>Plátano</td>\n      <td>164.0</td>\n      <td>377.2</td>\n      <td>marzo</td>\n    </tr>\n    <tr>\n      <th>3</th>\n      <td>3/3/2021</td>\n      <td>8:30</td>\n      <td>Banano</td>\n      <td>148.0</td>\n      <td>355.2</td>\n      <td>marzo</td>\n    </tr>\n    <tr>\n      <th>4</th>\n      <td>3/3/2021</td>\n      <td>13:00</td>\n      <td>Banano</td>\n      <td>124.0</td>\n      <td>297.6</td>\n      <td>marzo</td>\n    </tr>\n    <tr>\n      <th>...</th>\n      <td>...</td>\n      <td>...</td>\n      <td>...</td>\n      <td>...</td>\n      <td>...</td>\n      <td>...</td>\n    </tr>\n    <tr>\n      <th>105</th>\n      <td>13/7/2021</td>\n      <td>10:30</td>\n      <td>Plátano</td>\n      <td>251.0</td>\n      <td>577.3</td>\n      <td>julio</td>\n    </tr>\n    <tr>\n      <th>106</th>\n      <td>14/7/2021</td>\n      <td>10:30</td>\n      <td>Plátano</td>\n      <td>238.0</td>\n      <td>547.4</td>\n      <td>julio</td>\n    </tr>\n    <tr>\n      <th>107</th>\n      <td>15/7/2021</td>\n      <td>7:30</td>\n      <td>Plátano</td>\n      <td>305.0</td>\n      <td>701.5</td>\n      <td>julio</td>\n    </tr>\n    <tr>\n      <th>108</th>\n      <td>15/7/2021</td>\n      <td>16:00</td>\n      <td>Plátano</td>\n      <td>249.0</td>\n      <td>572.7</td>\n      <td>julio</td>\n    </tr>\n    <tr>\n      <th>109</th>\n      <td>17/7/2021</td>\n      <td>9:00</td>\n      <td>Plátano</td>\n      <td>319.0</td>\n      <td>733.7</td>\n      <td>julio</td>\n    </tr>\n  </tbody>\n</table>\n<p>110 rows × 6 columns</p>\n</div>"
     },
     "metadata": {}
    }
   ]
  },
  {
   "cell_type": "markdown",
   "source": "Birds have been eaten in five months 17524 g plantain, 3931 g banana, 1660 g papaya and 1097 g orange.",
   "metadata": {
    "tags": [],
    "is_collapsed": false,
    "cell_id": "00006-a682bf93-b32c-4665-b7e0-9338a9aa50d6",
    "deepnote_cell_type": "text-cell-p"
   }
  },
  {
   "cell_type": "code",
   "source": "_deepnote_run_altair(df, \"\"\"{\"$schema\":\"https://vega.github.io/schema/vega-lite/v4.json\",\"mark\":{\"type\":\"bar\",\"tooltip\":{\"content\":\"data\"}},\"height\":220,\"autosize\":{\"type\":\"fit\"},\"data\":{\"name\":\"placeholder\"},\"encoding\":{\"x\":{\"field\":\"Descripción\",\"type\":\"nominal\",\"sort\":{\"field\":\"Cantidad(g)\",\"op\":\"sum\",\"order\":\"descending\"},\"scale\":{\"type\":\"linear\",\"zero\":false}},\"y\":{\"field\":\"Cantidad(g)\",\"type\":\"quantitative\",\"sort\":{\"field\":\"Cantidad(g)\",\"op\":\"sum\",\"order\":\"descending\"},\"scale\":{\"type\":\"linear\",\"zero\":true},\"aggregate\":\"sum\"},\"color\":{\"field\":\"Descripción\",\"type\":\"nominal\",\"sort\":null,\"scale\":{\"type\":\"linear\",\"zero\":false}}}}\"\"\")",
   "metadata": {
    "cell_id": "00006-c498b846-a693-47b0-a16d-7d7799a45884",
    "deepnote_variable_name": "df",
    "deepnote_visualization_spec": {
     "$schema": "https://vega.github.io/schema/vega-lite/v4.json",
     "mark": {
      "type": "bar",
      "tooltip": {
       "content": "data"
      }
     },
     "height": 220,
     "autosize": {
      "type": "fit"
     },
     "data": {
      "name": "placeholder"
     },
     "encoding": {
      "x": {
       "field": "Descripción",
       "type": "nominal",
       "sort": {
        "field": "Cantidad(g)",
        "op": "sum",
        "order": "descending"
       },
       "scale": {
        "type": "linear",
        "zero": false
       }
      },
      "y": {
       "field": "Cantidad(g)",
       "type": "quantitative",
       "sort": {
        "field": "Cantidad(g)",
        "op": "sum",
        "order": "descending"
       },
       "scale": {
        "type": "linear",
        "zero": true
       },
       "aggregate": "sum"
      },
      "color": {
       "field": "Descripción",
       "type": "nominal",
       "sort": null,
       "scale": {
        "type": "linear",
        "zero": false
       }
      }
     }
    },
    "deepnote_to_be_reexecuted": false,
    "source_hash": "8e09c4af",
    "execution_start": 1636910319901,
    "execution_millis": 1048,
    "deepnote_cell_type": "visualization"
   },
   "execution_count": 6,
   "outputs": [
    {
     "output_type": "execute_result",
     "execution_count": 6,
     "data": {
      "text/html": "\n<div id=\"altair-viz-6932ecd417dc41b3b462ddff6a082a58\"></div>\n<script type=\"text/javascript\">\n  (function(spec, embedOpt){\n    let outputDiv = document.currentScript.previousElementSibling;\n    if (outputDiv.id !== \"altair-viz-6932ecd417dc41b3b462ddff6a082a58\") {\n      outputDiv = document.getElementById(\"altair-viz-6932ecd417dc41b3b462ddff6a082a58\");\n    }\n    const paths = {\n      \"vega\": \"https://cdn.jsdelivr.net/npm//vega@5?noext\",\n      \"vega-lib\": \"https://cdn.jsdelivr.net/npm//vega-lib?noext\",\n      \"vega-lite\": \"https://cdn.jsdelivr.net/npm//vega-lite@4.8.1?noext\",\n      \"vega-embed\": \"https://cdn.jsdelivr.net/npm//vega-embed@6?noext\",\n    };\n\n    function loadScript(lib) {\n      return new Promise(function(resolve, reject) {\n        var s = document.createElement('script');\n        s.src = paths[lib];\n        s.async = true;\n        s.onload = () => resolve(paths[lib]);\n        s.onerror = () => reject(`Error loading script: ${paths[lib]}`);\n        document.getElementsByTagName(\"head\")[0].appendChild(s);\n      });\n    }\n\n    function showError(err) {\n      outputDiv.innerHTML = `<div class=\"error\" style=\"color:red;\">${err}</div>`;\n      throw err;\n    }\n\n    function displayChart(vegaEmbed) {\n      vegaEmbed(outputDiv, spec, embedOpt)\n        .catch(err => showError(`Javascript Error: ${err.message}<br>This usually means there's a typo in your chart specification. See the javascript console for the full traceback.`));\n    }\n\n    if(typeof define === \"function\" && define.amd) {\n      requirejs.config({paths});\n      require([\"vega-embed\"], displayChart, err => showError(`Error loading script: ${err.message}`));\n    } else if (typeof vegaEmbed === \"function\") {\n      displayChart(vegaEmbed);\n    } else {\n      loadScript(\"vega\")\n        .then(() => loadScript(\"vega-lite\"))\n        .then(() => loadScript(\"vega-embed\"))\n        .catch(showError)\n        .then(() => displayChart(vegaEmbed));\n    }\n  })({\"config\": {\"view\": {\"continuousWidth\": 400, \"continuousHeight\": 300}, \"area\": {\"fill\": \"#51C0E9\"}, \"axis\": {\"labelFont\": \"Inter, sans-serif\", \"labelFontSize\": 12, \"labelFontWeight\": \"normal\", \"labelLimit\": 60, \"labelOverlap\": \"greedy\", \"titleFont\": \"Inter, sans-serif\", \"titleFontSize\": 12, \"titleFontWeight\": \"bold\"}, \"background\": \"#ffffff\", \"legend\": {\"labelFont\": \"Inter, sans-serif\", \"labelFontSize\": 12, \"titleFont\": \"Inter, sans-serif\", \"titleFontSize\": 12, \"titleFontWeight\": \"bold\"}, \"line\": {\"stroke\": \"#51C0E9\", \"strokeWidth\": 2}, \"rect\": {\"fill\": \"#51C0E9\"}, \"title\": {\"anchor\": \"start\", \"color\": \"#000000\", \"font\": \"Inter, sans-serif\", \"fontSize\": 22, \"fontWeight\": \"normal\"}}, \"data\": {\"name\": \"data-06f5070edb912e919c4ce43ecfe141d9\"}, \"mark\": {\"type\": \"bar\", \"tooltip\": {\"content\": \"data\"}}, \"autosize\": {\"type\": \"fit\"}, \"encoding\": {\"color\": {\"type\": \"nominal\", \"field\": \"Descripci\\u00f3n\", \"scale\": {\"type\": \"linear\", \"zero\": false}, \"sort\": null}, \"x\": {\"type\": \"nominal\", \"field\": \"Descripci\\u00f3n\", \"scale\": {\"type\": \"linear\", \"zero\": false}, \"sort\": {\"field\": \"Cantidad(g)\", \"op\": \"sum\", \"order\": \"descending\"}}, \"y\": {\"type\": \"quantitative\", \"aggregate\": \"sum\", \"field\": \"Cantidad(g)\", \"scale\": {\"type\": \"linear\", \"zero\": true}, \"sort\": {\"field\": \"Cantidad(g)\", \"op\": \"sum\", \"order\": \"descending\"}}}, \"height\": 300, \"width\": \"container\", \"$schema\": \"https://vega.github.io/schema/vega-lite/v4.json\", \"datasets\": {\"data-06f5070edb912e919c4ce43ecfe141d9\": [{\"Fecha\": \"2021-01-03T00:00:00\", \"Hora\": \"2021-11-14T09:00:00\", \"Descripci\\u00f3n\": \"Papaya\", \"Cantidad(g)\": 227.0, \"Costo($)\": 385.9, \"Mes\": \"marzo\"}, {\"Fecha\": \"2021-01-03T00:00:00\", \"Hora\": \"2021-11-14T09:00:00\", \"Descripci\\u00f3n\": \"Pl\\u00e1tano\", \"Cantidad(g)\": 165.0, \"Costo($)\": 379.5, \"Mes\": \"marzo\"}, {\"Fecha\": \"2021-02-03T00:00:00\", \"Hora\": \"2021-11-14T09:30:00\", \"Descripci\\u00f3n\": \"Pl\\u00e1tano\", \"Cantidad(g)\": 164.0, \"Costo($)\": 377.2, \"Mes\": \"marzo\"}, {\"Fecha\": \"2021-03-03T00:00:00\", \"Hora\": \"2021-11-14T08:30:00\", \"Descripci\\u00f3n\": \"Banano\", \"Cantidad(g)\": 148.0, \"Costo($)\": 355.2, \"Mes\": \"marzo\"}, {\"Fecha\": \"2021-03-03T00:00:00\", \"Hora\": \"2021-11-14T13:00:00\", \"Descripci\\u00f3n\": \"Banano\", \"Cantidad(g)\": 124.0, \"Costo($)\": 297.6, \"Mes\": \"marzo\"}, {\"Fecha\": \"2021-04-03T00:00:00\", \"Hora\": \"2021-11-14T07:00:00\", \"Descripci\\u00f3n\": \"Banano\", \"Cantidad(g)\": 136.0, \"Costo($)\": 326.4, \"Mes\": \"marzo\"}, {\"Fecha\": \"2021-05-03T00:00:00\", \"Hora\": \"2021-11-14T06:30:00\", \"Descripci\\u00f3n\": \"Banano\", \"Cantidad(g)\": 112.0, \"Costo($)\": 268.8, \"Mes\": \"marzo\"}, {\"Fecha\": \"2021-06-03T00:00:00\", \"Hora\": \"2021-11-14T14:00:00\", \"Descripci\\u00f3n\": \"Pl\\u00e1tano\", \"Cantidad(g)\": 274.0, \"Costo($)\": 630.2, \"Mes\": \"marzo\"}, {\"Fecha\": \"2021-07-03T00:00:00\", \"Hora\": \"2021-11-14T11:00:00\", \"Descripci\\u00f3n\": \"Papaya\", \"Cantidad(g)\": 222.0, \"Costo($)\": 377.4, \"Mes\": \"marzo\"}, {\"Fecha\": \"2021-08-03T00:00:00\", \"Hora\": \"2021-11-14T07:30:00\", \"Descripci\\u00f3n\": \"Banano\", \"Cantidad(g)\": 125.0, \"Costo($)\": 300.0, \"Mes\": \"marzo\"}, {\"Fecha\": \"2021-09-03T00:00:00\", \"Hora\": \"2021-11-14T08:00:00\", \"Descripci\\u00f3n\": \"Banano\", \"Cantidad(g)\": 139.0, \"Costo($)\": 333.6, \"Mes\": \"marzo\"}, {\"Fecha\": \"2021-10-03T00:00:00\", \"Hora\": \"2021-11-14T07:30:00\", \"Descripci\\u00f3n\": \"Pl\\u00e1tano\", \"Cantidad(g)\": 275.0, \"Costo($)\": 632.5, \"Mes\": \"marzo\"}, {\"Fecha\": \"2021-11-03T00:00:00\", \"Hora\": \"2021-11-14T09:30:00\", \"Descripci\\u00f3n\": \"Pl\\u00e1tano\", \"Cantidad(g)\": 248.0, \"Costo($)\": 570.4, \"Mes\": \"marzo\"}, {\"Fecha\": \"2021-03-13T00:00:00\", \"Hora\": \"2021-11-14T10:30:00\", \"Descripci\\u00f3n\": \"Pl\\u00e1tano\", \"Cantidad(g)\": 281.0, \"Costo($)\": 646.3, \"Mes\": \"marzo\"}, {\"Fecha\": \"2021-03-14T00:00:00\", \"Hora\": \"2021-11-14T08:00:00\", \"Descripci\\u00f3n\": \"Pl\\u00e1tano\", \"Cantidad(g)\": 230.0, \"Costo($)\": 529.0, \"Mes\": \"marzo\"}, {\"Fecha\": \"2021-03-15T00:00:00\", \"Hora\": \"2021-11-14T08:30:00\", \"Descripci\\u00f3n\": \"Pl\\u00e1tano\", \"Cantidad(g)\": 227.0, \"Costo($)\": 522.1, \"Mes\": \"marzo\"}, {\"Fecha\": \"2021-03-16T00:00:00\", \"Hora\": \"2021-11-14T07:30:00\", \"Descripci\\u00f3n\": \"Pl\\u00e1tano\", \"Cantidad(g)\": 297.0, \"Costo($)\": 683.1, \"Mes\": \"marzo\"}, {\"Fecha\": \"2021-03-18T00:00:00\", \"Hora\": \"2021-11-14T09:00:00\", \"Descripci\\u00f3n\": \"Pl\\u00e1tano\", \"Cantidad(g)\": 125.0, \"Costo($)\": 287.5, \"Mes\": \"marzo\"}, {\"Fecha\": \"2021-03-18T00:00:00\", \"Hora\": \"2021-11-14T12:00:00\", \"Descripci\\u00f3n\": \"Banano\", \"Cantidad(g)\": 164.0, \"Costo($)\": 393.6, \"Mes\": \"marzo\"}, {\"Fecha\": \"2021-03-19T00:00:00\", \"Hora\": \"2021-11-14T07:00:00\", \"Descripci\\u00f3n\": \"Pl\\u00e1tano\", \"Cantidad(g)\": 246.0, \"Costo($)\": 565.8, \"Mes\": \"marzo\"}, {\"Fecha\": \"2021-03-23T00:00:00\", \"Hora\": \"2021-11-14T10:00:00\", \"Descripci\\u00f3n\": \"Pl\\u00e1tano\", \"Cantidad(g)\": 246.0, \"Costo($)\": 565.8, \"Mes\": \"marzo\"}, {\"Fecha\": \"2021-03-24T00:00:00\", \"Hora\": \"2021-11-14T12:00:00\", \"Descripci\\u00f3n\": \"Banano\", \"Cantidad(g)\": 325.0, \"Costo($)\": 780.0, \"Mes\": \"marzo\"}, {\"Fecha\": \"2021-06-04T00:00:00\", \"Hora\": \"2021-11-14T06:00:00\", \"Descripci\\u00f3n\": \"Banano\", \"Cantidad(g)\": 150.0, \"Costo($)\": 360.0, \"Mes\": \"abril\"}, {\"Fecha\": \"2021-06-04T00:00:00\", \"Hora\": \"2021-11-14T10:30:00\", \"Descripci\\u00f3n\": \"Papaya\", \"Cantidad(g)\": 117.0, \"Costo($)\": 198.9, \"Mes\": \"abril\"}, {\"Fecha\": \"2021-07-04T00:00:00\", \"Hora\": \"2021-11-14T12:30:00\", \"Descripci\\u00f3n\": \"Pl\\u00e1tano\", \"Cantidad(g)\": 194.0, \"Costo($)\": 446.2, \"Mes\": \"abril\"}, {\"Fecha\": \"2021-10-04T00:00:00\", \"Hora\": \"2021-11-14T13:00:00\", \"Descripci\\u00f3n\": \"Pl\\u00e1tano\", \"Cantidad(g)\": 195.0, \"Costo($)\": 448.5, \"Mes\": \"abril\"}, {\"Fecha\": \"2021-04-14T00:00:00\", \"Hora\": \"2021-11-14T08:30:00\", \"Descripci\\u00f3n\": \"Pl\\u00e1tano\", \"Cantidad(g)\": 165.0, \"Costo($)\": 379.5, \"Mes\": \"abril\"}, {\"Fecha\": \"2021-04-15T00:00:00\", \"Hora\": \"2021-11-14T09:30:00\", \"Descripci\\u00f3n\": \"Pl\\u00e1tano\", \"Cantidad(g)\": 145.0, \"Costo($)\": 333.5, \"Mes\": \"abril\"}, {\"Fecha\": \"2021-04-16T00:00:00\", \"Hora\": \"2021-11-14T12:00:00\", \"Descripci\\u00f3n\": \"Pl\\u00e1tano\", \"Cantidad(g)\": 225.0, \"Costo($)\": 517.5, \"Mes\": \"abril\"}, {\"Fecha\": \"2021-04-19T00:00:00\", \"Hora\": \"2021-11-14T08:30:00\", \"Descripci\\u00f3n\": \"Pl\\u00e1tano\", \"Cantidad(g)\": 215.0, \"Costo($)\": 494.5, \"Mes\": \"abril\"}, {\"Fecha\": \"2021-04-21T00:00:00\", \"Hora\": \"2021-11-14T10:00:00\", \"Descripci\\u00f3n\": \"Pl\\u00e1tano\", \"Cantidad(g)\": 194.0, \"Costo($)\": 446.2, \"Mes\": \"abril\"}, {\"Fecha\": \"2021-04-23T00:00:00\", \"Hora\": \"2021-11-14T06:30:00\", \"Descripci\\u00f3n\": \"Pl\\u00e1tano\", \"Cantidad(g)\": 215.0, \"Costo($)\": 494.5, \"Mes\": \"abril\"}, {\"Fecha\": \"2021-04-25T00:00:00\", \"Hora\": \"2021-11-14T09:00:00\", \"Descripci\\u00f3n\": \"Pl\\u00e1tano\", \"Cantidad(g)\": 269.0, \"Costo($)\": 618.7, \"Mes\": \"abril\"}, {\"Fecha\": \"2021-04-26T00:00:00\", \"Hora\": \"2021-11-14T11:00:00\", \"Descripci\\u00f3n\": \"Pl\\u00e1tano\", \"Cantidad(g)\": 289.0, \"Costo($)\": 664.7, \"Mes\": \"abril\"}, {\"Fecha\": \"2021-04-27T00:00:00\", \"Hora\": \"2021-11-14T09:00:00\", \"Descripci\\u00f3n\": \"Pl\\u00e1tano\", \"Cantidad(g)\": 284.0, \"Costo($)\": 653.2, \"Mes\": \"abril\"}, {\"Fecha\": \"2021-04-28T00:00:00\", \"Hora\": \"2021-11-14T08:00:00\", \"Descripci\\u00f3n\": \"Pl\\u00e1tano\", \"Cantidad(g)\": 292.0, \"Costo($)\": 671.6, \"Mes\": \"abril\"}, {\"Fecha\": \"2021-04-30T00:00:00\", \"Hora\": \"2021-11-14T13:00:00\", \"Descripci\\u00f3n\": \"Banano\", \"Cantidad(g)\": 139.0, \"Costo($)\": 333.6, \"Mes\": \"abril\"}, {\"Fecha\": \"2021-04-30T00:00:00\", \"Hora\": \"2021-11-14T16:00:00\", \"Descripci\\u00f3n\": \"Banano\", \"Cantidad(g)\": 107.0, \"Costo($)\": 256.8, \"Mes\": \"abril\"}, {\"Fecha\": \"2021-01-05T00:00:00\", \"Hora\": \"2021-11-14T10:00:00\", \"Descripci\\u00f3n\": \"Banano\", \"Cantidad(g)\": 111.0, \"Costo($)\": 266.4, \"Mes\": \"mayo\"}, {\"Fecha\": \"2021-01-05T00:00:00\", \"Hora\": \"2021-11-14T14:00:00\", \"Descripci\\u00f3n\": \"Banano\", \"Cantidad(g)\": 99.0, \"Costo($)\": 237.6, \"Mes\": \"mayo\"}, {\"Fecha\": \"2021-01-05T00:00:00\", \"Hora\": \"2021-11-14T16:30:00\", \"Descripci\\u00f3n\": \"Banano\", \"Cantidad(g)\": 99.0, \"Costo($)\": 237.6, \"Mes\": \"mayo\"}, {\"Fecha\": \"2021-02-05T00:00:00\", \"Hora\": \"2021-11-14T07:00:00\", \"Descripci\\u00f3n\": \"Banano\", \"Cantidad(g)\": 110.0, \"Costo($)\": 264.0, \"Mes\": \"mayo\"}, {\"Fecha\": \"2021-02-05T00:00:00\", \"Hora\": \"2021-11-14T10:00:00\", \"Descripci\\u00f3n\": \"Banano\", \"Cantidad(g)\": 115.0, \"Costo($)\": 276.0, \"Mes\": \"mayo\"}, {\"Fecha\": \"2021-03-05T00:00:00\", \"Hora\": \"2021-11-14T08:00:00\", \"Descripci\\u00f3n\": \"Banano\", \"Cantidad(g)\": 105.0, \"Costo($)\": 252.0, \"Mes\": \"mayo\"}, {\"Fecha\": \"2021-03-05T00:00:00\", \"Hora\": \"2021-11-14T13:30:00\", \"Descripci\\u00f3n\": \"Pl\\u00e1tano\", \"Cantidad(g)\": 246.0, \"Costo($)\": 565.8, \"Mes\": \"mayo\"}, {\"Fecha\": \"2021-04-05T00:00:00\", \"Hora\": \"2021-11-14T10:00:00\", \"Descripci\\u00f3n\": \"Pl\\u00e1tano\", \"Cantidad(g)\": 238.0, \"Costo($)\": 547.4, \"Mes\": \"mayo\"}, {\"Fecha\": \"2021-05-05T00:00:00\", \"Hora\": \"2021-11-14T07:00:00\", \"Descripci\\u00f3n\": \"Pl\\u00e1tano\", \"Cantidad(g)\": 261.0, \"Costo($)\": 600.3, \"Mes\": \"mayo\"}, {\"Fecha\": \"2021-06-05T00:00:00\", \"Hora\": \"2021-11-14T06:00:00\", \"Descripci\\u00f3n\": \"Pl\\u00e1tano\", \"Cantidad(g)\": 310.0, \"Costo($)\": 713.0, \"Mes\": \"mayo\"}, {\"Fecha\": \"2021-07-05T00:00:00\", \"Hora\": \"2021-11-14T11:00:00\", \"Descripci\\u00f3n\": \"Papaya\", \"Cantidad(g)\": 180.0, \"Costo($)\": 306.0, \"Mes\": \"mayo\"}, {\"Fecha\": \"2021-07-05T00:00:00\", \"Hora\": \"2021-11-14T16:00:00\", \"Descripci\\u00f3n\": \"Papaya\", \"Cantidad(g)\": 72.0, \"Costo($)\": 122.4, \"Mes\": \"mayo\"}, {\"Fecha\": \"2021-08-05T00:00:00\", \"Hora\": \"2021-11-14T09:00:00\", \"Descripci\\u00f3n\": \"Papaya\", \"Cantidad(g)\": 184.0, \"Costo($)\": 312.8, \"Mes\": \"mayo\"}, {\"Fecha\": \"2021-09-05T00:00:00\", \"Hora\": \"2021-11-14T08:30:00\", \"Descripci\\u00f3n\": \"Banano\", \"Cantidad(g)\": 160.0, \"Costo($)\": 384.0, \"Mes\": \"mayo\"}, {\"Fecha\": \"2021-09-05T00:00:00\", \"Hora\": \"2021-11-14T10:30:00\", \"Descripci\\u00f3n\": \"Papaya\", \"Cantidad(g)\": 110.0, \"Costo($)\": 187.0, \"Mes\": \"mayo\"}, {\"Fecha\": \"2021-10-05T00:00:00\", \"Hora\": \"2021-11-14T07:00:00\", \"Descripci\\u00f3n\": \"Papaya\", \"Cantidad(g)\": 132.0, \"Costo($)\": 224.4, \"Mes\": \"mayo\"}, {\"Fecha\": \"2021-11-05T00:00:00\", \"Hora\": \"2021-11-14T10:00:00\", \"Descripci\\u00f3n\": \"Naranja\", \"Cantidad(g)\": 209.0, \"Costo($)\": 836.0, \"Mes\": \"mayo\"}, {\"Fecha\": \"2021-12-05T00:00:00\", \"Hora\": \"2021-11-14T13:30:00\", \"Descripci\\u00f3n\": \"Naranja\", \"Cantidad(g)\": 246.0, \"Costo($)\": 984.0, \"Mes\": \"mayo\"}, {\"Fecha\": \"2021-05-13T00:00:00\", \"Hora\": \"2021-11-14T06:00:00\", \"Descripci\\u00f3n\": \"Naranja\", \"Cantidad(g)\": 198.0, \"Costo($)\": 792.0, \"Mes\": \"mayo\"}, {\"Fecha\": \"2021-05-14T00:00:00\", \"Hora\": \"2021-11-14T06:30:00\", \"Descripci\\u00f3n\": \"Naranja\", \"Cantidad(g)\": 197.0, \"Costo($)\": 788.0, \"Mes\": \"mayo\"}, {\"Fecha\": \"2021-05-15T00:00:00\", \"Hora\": \"2021-11-14T09:30:00\", \"Descripci\\u00f3n\": \"Pl\\u00e1tano\", \"Cantidad(g)\": 320.0, \"Costo($)\": 736.0, \"Mes\": \"mayo\"}, {\"Fecha\": \"2021-05-16T00:00:00\", \"Hora\": \"2021-11-14T08:30:00\", \"Descripci\\u00f3n\": \"Papaya\", \"Cantidad(g)\": 416.0, \"Costo($)\": 707.2, \"Mes\": \"mayo\"}, {\"Fecha\": \"2021-05-17T00:00:00\", \"Hora\": \"2021-11-14T09:00:00\", \"Descripci\\u00f3n\": \"Pl\\u00e1tano\", \"Cantidad(g)\": 263.0, \"Costo($)\": 604.9, \"Mes\": \"mayo\"}, {\"Fecha\": \"2021-05-18T00:00:00\", \"Hora\": \"2021-11-14T11:30:00\", \"Descripci\\u00f3n\": \"Pl\\u00e1tano\", \"Cantidad(g)\": 252.0, \"Costo($)\": 579.6, \"Mes\": \"mayo\"}, {\"Fecha\": \"2021-05-19T00:00:00\", \"Hora\": \"2021-11-14T10:00:00\", \"Descripci\\u00f3n\": \"Pl\\u00e1tano\", \"Cantidad(g)\": 243.0, \"Costo($)\": 558.9, \"Mes\": \"mayo\"}, {\"Fecha\": \"2021-05-20T00:00:00\", \"Hora\": \"2021-11-14T12:30:00\", \"Descripci\\u00f3n\": \"Pl\\u00e1tano\", \"Cantidad(g)\": 308.0, \"Costo($)\": 708.4, \"Mes\": \"mayo\"}, {\"Fecha\": \"2021-05-21T00:00:00\", \"Hora\": \"2021-11-14T15:00:00\", \"Descripci\\u00f3n\": \"Pl\\u00e1tano\", \"Cantidad(g)\": 314.0, \"Costo($)\": 722.2, \"Mes\": \"mayo\"}, {\"Fecha\": \"2021-05-23T00:00:00\", \"Hora\": \"2021-11-14T08:00:00\", \"Descripci\\u00f3n\": \"Pl\\u00e1tano\", \"Cantidad(g)\": 275.0, \"Costo($)\": 632.5, \"Mes\": \"mayo\"}, {\"Fecha\": \"2021-05-24T00:00:00\", \"Hora\": \"2021-11-14T08:00:00\", \"Descripci\\u00f3n\": \"Naranja\", \"Cantidad(g)\": 247.0, \"Costo($)\": 988.0, \"Mes\": \"mayo\"}, {\"Fecha\": \"2021-05-24T00:00:00\", \"Hora\": \"2021-11-14T16:30:00\", \"Descripci\\u00f3n\": \"Pl\\u00e1tano\", \"Cantidad(g)\": 315.0, \"Costo($)\": 724.5, \"Mes\": \"mayo\"}, {\"Fecha\": \"2021-05-25T00:00:00\", \"Hora\": \"2021-11-14T16:30:00\", \"Descripci\\u00f3n\": \"Pl\\u00e1tano\", \"Cantidad(g)\": 304.0, \"Costo($)\": 699.2, \"Mes\": \"mayo\"}, {\"Fecha\": \"2021-01-06T00:00:00\", \"Hora\": \"2021-11-14T08:30:00\", \"Descripci\\u00f3n\": \"Pl\\u00e1tano\", \"Cantidad(g)\": 200.0, \"Costo($)\": 460.0, \"Mes\": \"junio\"}, {\"Fecha\": \"2021-02-06T00:00:00\", \"Hora\": \"2021-11-14T07:00:00\", \"Descripci\\u00f3n\": \"Pl\\u00e1tano\", \"Cantidad(g)\": 284.0, \"Costo($)\": 653.2, \"Mes\": \"junio\"}, {\"Fecha\": \"2021-03-06T00:00:00\", \"Hora\": \"2021-11-14T08:30:00\", \"Descripci\\u00f3n\": \"Pl\\u00e1tano\", \"Cantidad(g)\": 285.0, \"Costo($)\": 655.5, \"Mes\": \"junio\"}, {\"Fecha\": \"2021-04-06T00:00:00\", \"Hora\": \"2021-11-14T10:00:00\", \"Descripci\\u00f3n\": \"Pl\\u00e1tano\", \"Cantidad(g)\": 235.0, \"Costo($)\": 540.5, \"Mes\": \"junio\"}, {\"Fecha\": \"2021-05-06T00:00:00\", \"Hora\": \"2021-11-14T12:00:00\", \"Descripci\\u00f3n\": \"Pl\\u00e1tano\", \"Cantidad(g)\": 303.0, \"Costo($)\": 696.9, \"Mes\": \"junio\"}, {\"Fecha\": \"2021-06-06T00:00:00\", \"Hora\": \"2021-11-14T14:00:00\", \"Descripci\\u00f3n\": \"Pl\\u00e1tano\", \"Cantidad(g)\": 184.0, \"Costo($)\": 423.2, \"Mes\": \"junio\"}, {\"Fecha\": \"2021-08-06T00:00:00\", \"Hora\": \"2021-11-14T14:00:00\", \"Descripci\\u00f3n\": \"Pl\\u00e1tano\", \"Cantidad(g)\": 260.0, \"Costo($)\": 598.0, \"Mes\": \"junio\"}, {\"Fecha\": \"2021-09-06T00:00:00\", \"Hora\": \"2021-11-14T16:00:00\", \"Descripci\\u00f3n\": \"Pl\\u00e1tano\", \"Cantidad(g)\": 131.0, \"Costo($)\": 301.3, \"Mes\": \"junio\"}, {\"Fecha\": \"2021-11-06T00:00:00\", \"Hora\": \"2021-11-14T06:00:00\", \"Descripci\\u00f3n\": \"Banano\", \"Cantidad(g)\": 220.0, \"Costo($)\": 528.0, \"Mes\": \"junio\"}, {\"Fecha\": \"2021-11-06T00:00:00\", \"Hora\": \"2021-11-14T14:00:00\", \"Descripci\\u00f3n\": \"Banano\", \"Cantidad(g)\": 227.0, \"Costo($)\": 544.8, \"Mes\": \"junio\"}, {\"Fecha\": \"2021-12-06T00:00:00\", \"Hora\": \"2021-11-14T09:30:00\", \"Descripci\\u00f3n\": \"Banano\", \"Cantidad(g)\": 228.0, \"Costo($)\": 547.2, \"Mes\": \"junio\"}, {\"Fecha\": \"2021-12-06T00:00:00\", \"Hora\": \"2021-11-14T15:00:00\", \"Descripci\\u00f3n\": \"Banano\", \"Cantidad(g)\": 202.0, \"Costo($)\": 484.8, \"Mes\": \"junio\"}, {\"Fecha\": \"2021-06-13T00:00:00\", \"Hora\": \"2021-11-14T13:00:00\", \"Descripci\\u00f3n\": \"Banano\", \"Cantidad(g)\": 94.0, \"Costo($)\": 225.6, \"Mes\": \"junio\"}, {\"Fecha\": \"2021-06-14T00:00:00\", \"Hora\": \"2021-11-14T10:00:00\", \"Descripci\\u00f3n\": \"Banano\", \"Cantidad(g)\": 165.0, \"Costo($)\": 396.0, \"Mes\": \"junio\"}, {\"Fecha\": \"2021-06-15T00:00:00\", \"Hora\": \"2021-11-14T09:30:00\", \"Descripci\\u00f3n\": \"Pl\\u00e1tano\", \"Cantidad(g)\": 252.0, \"Costo($)\": 579.6, \"Mes\": \"junio\"}, {\"Fecha\": \"2021-06-16T00:00:00\", \"Hora\": \"2021-11-14T06:00:00\", \"Descripci\\u00f3n\": \"Pl\\u00e1tano\", \"Cantidad(g)\": 167.0, \"Costo($)\": 384.1, \"Mes\": \"junio\"}, {\"Fecha\": \"2021-06-17T00:00:00\", \"Hora\": \"2021-11-14T06:00:00\", \"Descripci\\u00f3n\": \"Pl\\u00e1tano\", \"Cantidad(g)\": 221.0, \"Costo($)\": 508.3, \"Mes\": \"junio\"}, {\"Fecha\": \"2021-06-18T00:00:00\", \"Hora\": \"2021-11-14T07:00:00\", \"Descripci\\u00f3n\": \"Pl\\u00e1tano\", \"Cantidad(g)\": 284.0, \"Costo($)\": 653.2, \"Mes\": \"junio\"}, {\"Fecha\": \"2021-06-19T00:00:00\", \"Hora\": \"2021-11-14T08:00:00\", \"Descripci\\u00f3n\": \"Pl\\u00e1tano\", \"Cantidad(g)\": 347.0, \"Costo($)\": 798.1, \"Mes\": \"junio\"}, {\"Fecha\": \"2021-06-21T00:00:00\", \"Hora\": \"2021-11-14T07:00:00\", \"Descripci\\u00f3n\": \"Pl\\u00e1tano\", \"Cantidad(g)\": 251.0, \"Costo($)\": 577.3, \"Mes\": \"junio\"}, {\"Fecha\": \"2021-06-22T00:00:00\", \"Hora\": \"2021-11-14T07:30:00\", \"Descripci\\u00f3n\": \"Pl\\u00e1tano\", \"Cantidad(g)\": 316.0, \"Costo($)\": 726.8, \"Mes\": \"junio\"}, {\"Fecha\": \"2021-06-23T00:00:00\", \"Hora\": \"2021-11-14T11:00:00\", \"Descripci\\u00f3n\": \"Pl\\u00e1tano\", \"Cantidad(g)\": 290.0, \"Costo($)\": 667.0, \"Mes\": \"junio\"}, {\"Fecha\": \"2021-06-28T00:00:00\", \"Hora\": \"2021-11-14T15:00:00\", \"Descripci\\u00f3n\": \"Pl\\u00e1tano\", \"Cantidad(g)\": 282.0, \"Costo($)\": 648.6, \"Mes\": \"junio\"}, {\"Fecha\": \"2021-06-30T00:00:00\", \"Hora\": \"2021-11-14T06:00:00\", \"Descripci\\u00f3n\": \"Pl\\u00e1tano\", \"Cantidad(g)\": 252.0, \"Costo($)\": 579.6, \"Mes\": \"junio\"}, {\"Fecha\": \"2021-01-07T00:00:00\", \"Hora\": \"2021-11-14T07:00:00\", \"Descripci\\u00f3n\": \"Pl\\u00e1tano\", \"Cantidad(g)\": 260.0, \"Costo($)\": 598.0, \"Mes\": \"julio\"}, {\"Fecha\": \"2021-02-07T00:00:00\", \"Hora\": \"2021-11-14T10:00:00\", \"Descripci\\u00f3n\": \"Pl\\u00e1tano\", \"Cantidad(g)\": 265.0, \"Costo($)\": 609.5, \"Mes\": \"julio\"}, {\"Fecha\": \"2021-04-07T00:00:00\", \"Hora\": \"2021-11-14T10:00:00\", \"Descripci\\u00f3n\": \"Pl\\u00e1tano\", \"Cantidad(g)\": 269.0, \"Costo($)\": 618.7, \"Mes\": \"julio\"}, {\"Fecha\": \"2021-05-07T00:00:00\", \"Hora\": \"2021-11-14T06:30:00\", \"Descripci\\u00f3n\": \"Pl\\u00e1tano\", \"Cantidad(g)\": 245.0, \"Costo($)\": 563.5, \"Mes\": \"julio\"}, {\"Fecha\": \"2021-06-07T00:00:00\", \"Hora\": \"2021-11-14T06:30:00\", \"Descripci\\u00f3n\": \"Banano\", \"Cantidad(g)\": 171.0, \"Costo($)\": 410.4, \"Mes\": \"julio\"}, {\"Fecha\": \"2021-06-07T00:00:00\", \"Hora\": \"2021-11-14T14:00:00\", \"Descripci\\u00f3n\": \"Banano\", \"Cantidad(g)\": 156.0, \"Costo($)\": 374.4, \"Mes\": \"julio\"}, {\"Fecha\": \"2021-07-07T00:00:00\", \"Hora\": \"2021-11-14T13:00:00\", \"Descripci\\u00f3n\": \"Pl\\u00e1tano\", \"Cantidad(g)\": 136.0, \"Costo($)\": 312.8, \"Mes\": \"julio\"}, {\"Fecha\": \"2021-08-07T00:00:00\", \"Hora\": \"2021-11-14T06:30:00\", \"Descripci\\u00f3n\": \"Pl\\u00e1tano\", \"Cantidad(g)\": 254.0, \"Costo($)\": 584.2, \"Mes\": \"julio\"}, {\"Fecha\": \"2021-09-07T00:00:00\", \"Hora\": \"2021-11-14T06:30:00\", \"Descripci\\u00f3n\": \"Pl\\u00e1tano\", \"Cantidad(g)\": 279.0, \"Costo($)\": 641.7, \"Mes\": \"julio\"}, {\"Fecha\": \"2021-10-07T00:00:00\", \"Hora\": \"2021-11-14T10:30:00\", \"Descripci\\u00f3n\": \"Pl\\u00e1tano\", \"Cantidad(g)\": 259.0, \"Costo($)\": 595.7, \"Mes\": \"julio\"}, {\"Fecha\": \"2021-11-07T00:00:00\", \"Hora\": \"2021-11-14T12:00:00\", \"Descripci\\u00f3n\": \"Pl\\u00e1tano\", \"Cantidad(g)\": 306.0, \"Costo($)\": 703.8, \"Mes\": \"julio\"}, {\"Fecha\": \"2021-12-07T00:00:00\", \"Hora\": \"2021-11-14T10:30:00\", \"Descripci\\u00f3n\": \"Pl\\u00e1tano\", \"Cantidad(g)\": 236.0, \"Costo($)\": 542.8, \"Mes\": \"julio\"}, {\"Fecha\": \"2021-07-13T00:00:00\", \"Hora\": \"2021-11-14T10:30:00\", \"Descripci\\u00f3n\": \"Pl\\u00e1tano\", \"Cantidad(g)\": 251.0, \"Costo($)\": 577.3, \"Mes\": \"julio\"}, {\"Fecha\": \"2021-07-14T00:00:00\", \"Hora\": \"2021-11-14T10:30:00\", \"Descripci\\u00f3n\": \"Pl\\u00e1tano\", \"Cantidad(g)\": 238.0, \"Costo($)\": 547.4, \"Mes\": \"julio\"}, {\"Fecha\": \"2021-07-15T00:00:00\", \"Hora\": \"2021-11-14T07:30:00\", \"Descripci\\u00f3n\": \"Pl\\u00e1tano\", \"Cantidad(g)\": 305.0, \"Costo($)\": 701.5, \"Mes\": \"julio\"}, {\"Fecha\": \"2021-07-15T00:00:00\", \"Hora\": \"2021-11-14T16:00:00\", \"Descripci\\u00f3n\": \"Pl\\u00e1tano\", \"Cantidad(g)\": 249.0, \"Costo($)\": 572.7, \"Mes\": \"julio\"}, {\"Fecha\": \"2021-07-17T00:00:00\", \"Hora\": \"2021-11-14T09:00:00\", \"Descripci\\u00f3n\": \"Pl\\u00e1tano\", \"Cantidad(g)\": 319.0, \"Costo($)\": 733.7, \"Mes\": \"julio\"}]}}, {\"actions\": false, \"mode\": \"vega-lite\"});\n</script>",
      "text/plain": "alt.Chart(...)"
     },
     "metadata": {}
    }
   ]
  },
  {
   "cell_type": "markdown",
   "source": "vs cost",
   "metadata": {
    "tags": [],
    "is_collapsed": false,
    "cell_id": "00008-83485c47-9c32-4d17-b162-b8bbaccd5156",
    "deepnote_cell_type": "text-cell-p"
   }
  },
  {
   "cell_type": "code",
   "source": "_deepnote_run_altair(df, \"\"\"{\"$schema\":\"https://vega.github.io/schema/vega-lite/v4.json\",\"mark\":{\"type\":\"point\",\"tooltip\":{\"content\":\"data\"}},\"height\":220,\"autosize\":{\"type\":\"fit\"},\"data\":{\"name\":\"placeholder\"},\"encoding\":{\"x\":{\"field\":\"Costo($)\",\"type\":\"quantitative\",\"sort\":null,\"scale\":{\"type\":\"linear\",\"zero\":false}},\"y\":{\"field\":\"Cantidad(g)\",\"type\":\"quantitative\",\"sort\":{\"field\":\"Cantidad(g)\",\"op\":\"sum\",\"order\":\"descending\"},\"scale\":{\"type\":\"linear\",\"zero\":false},\"aggregate\":\"sum\"},\"color\":{\"field\":\"Descripción\",\"type\":\"nominal\",\"sort\":null,\"scale\":{\"type\":\"linear\",\"zero\":false}}}}\"\"\")",
   "metadata": {
    "cell_id": "00008-0126be05-4a66-41a3-bdb5-d2dc4c028306",
    "deepnote_variable_name": "df",
    "deepnote_visualization_spec": {
     "$schema": "https://vega.github.io/schema/vega-lite/v4.json",
     "mark": {
      "type": "point",
      "tooltip": {
       "content": "data"
      }
     },
     "height": 220,
     "autosize": {
      "type": "fit"
     },
     "data": {
      "name": "placeholder"
     },
     "encoding": {
      "x": {
       "field": "Costo($)",
       "type": "quantitative",
       "sort": null,
       "scale": {
        "type": "linear",
        "zero": false
       }
      },
      "y": {
       "field": "Cantidad(g)",
       "type": "quantitative",
       "sort": {
        "field": "Cantidad(g)",
        "op": "sum",
        "order": "descending"
       },
       "scale": {
        "type": "linear",
        "zero": false
       },
       "aggregate": "sum"
      },
      "color": {
       "field": "Descripción",
       "type": "nominal",
       "sort": null,
       "scale": {
        "type": "linear",
        "zero": false
       }
      }
     }
    },
    "deepnote_to_be_reexecuted": false,
    "source_hash": "712a25",
    "allow_embed": false,
    "execution_start": 1636910320956,
    "execution_millis": 485,
    "deepnote_cell_type": "visualization"
   },
   "execution_count": 7,
   "outputs": [
    {
     "output_type": "execute_result",
     "execution_count": 7,
     "data": {
      "text/html": "\n<div id=\"altair-viz-78e353aed1be4fe2983f55d280454654\"></div>\n<script type=\"text/javascript\">\n  (function(spec, embedOpt){\n    let outputDiv = document.currentScript.previousElementSibling;\n    if (outputDiv.id !== \"altair-viz-78e353aed1be4fe2983f55d280454654\") {\n      outputDiv = document.getElementById(\"altair-viz-78e353aed1be4fe2983f55d280454654\");\n    }\n    const paths = {\n      \"vega\": \"https://cdn.jsdelivr.net/npm//vega@5?noext\",\n      \"vega-lib\": \"https://cdn.jsdelivr.net/npm//vega-lib?noext\",\n      \"vega-lite\": \"https://cdn.jsdelivr.net/npm//vega-lite@4.8.1?noext\",\n      \"vega-embed\": \"https://cdn.jsdelivr.net/npm//vega-embed@6?noext\",\n    };\n\n    function loadScript(lib) {\n      return new Promise(function(resolve, reject) {\n        var s = document.createElement('script');\n        s.src = paths[lib];\n        s.async = true;\n        s.onload = () => resolve(paths[lib]);\n        s.onerror = () => reject(`Error loading script: ${paths[lib]}`);\n        document.getElementsByTagName(\"head\")[0].appendChild(s);\n      });\n    }\n\n    function showError(err) {\n      outputDiv.innerHTML = `<div class=\"error\" style=\"color:red;\">${err}</div>`;\n      throw err;\n    }\n\n    function displayChart(vegaEmbed) {\n      vegaEmbed(outputDiv, spec, embedOpt)\n        .catch(err => showError(`Javascript Error: ${err.message}<br>This usually means there's a typo in your chart specification. See the javascript console for the full traceback.`));\n    }\n\n    if(typeof define === \"function\" && define.amd) {\n      requirejs.config({paths});\n      require([\"vega-embed\"], displayChart, err => showError(`Error loading script: ${err.message}`));\n    } else if (typeof vegaEmbed === \"function\") {\n      displayChart(vegaEmbed);\n    } else {\n      loadScript(\"vega\")\n        .then(() => loadScript(\"vega-lite\"))\n        .then(() => loadScript(\"vega-embed\"))\n        .catch(showError)\n        .then(() => displayChart(vegaEmbed));\n    }\n  })({\"config\": {\"view\": {\"continuousWidth\": 400, \"continuousHeight\": 300}, \"area\": {\"fill\": \"#51C0E9\"}, \"axis\": {\"labelFont\": \"Inter, sans-serif\", \"labelFontSize\": 12, \"labelFontWeight\": \"normal\", \"labelLimit\": 60, \"labelOverlap\": \"greedy\", \"titleFont\": \"Inter, sans-serif\", \"titleFontSize\": 12, \"titleFontWeight\": \"bold\"}, \"background\": \"#ffffff\", \"legend\": {\"labelFont\": \"Inter, sans-serif\", \"labelFontSize\": 12, \"titleFont\": \"Inter, sans-serif\", \"titleFontSize\": 12, \"titleFontWeight\": \"bold\"}, \"line\": {\"stroke\": \"#51C0E9\", \"strokeWidth\": 2}, \"rect\": {\"fill\": \"#51C0E9\"}, \"title\": {\"anchor\": \"start\", \"color\": \"#000000\", \"font\": \"Inter, sans-serif\", \"fontSize\": 22, \"fontWeight\": \"normal\"}}, \"data\": {\"name\": \"data-06f5070edb912e919c4ce43ecfe141d9\"}, \"mark\": {\"type\": \"point\", \"tooltip\": {\"content\": \"data\"}}, \"autosize\": {\"type\": \"fit\"}, \"encoding\": {\"color\": {\"type\": \"nominal\", \"field\": \"Descripci\\u00f3n\", \"scale\": {\"type\": \"linear\", \"zero\": false}, \"sort\": null}, \"x\": {\"type\": \"quantitative\", \"field\": \"Costo($)\", \"scale\": {\"type\": \"linear\", \"zero\": false}, \"sort\": null}, \"y\": {\"type\": \"quantitative\", \"aggregate\": \"sum\", \"field\": \"Cantidad(g)\", \"scale\": {\"type\": \"linear\", \"zero\": false}, \"sort\": {\"field\": \"Cantidad(g)\", \"op\": \"sum\", \"order\": \"descending\"}}}, \"height\": 300, \"width\": \"container\", \"$schema\": \"https://vega.github.io/schema/vega-lite/v4.json\", \"datasets\": {\"data-06f5070edb912e919c4ce43ecfe141d9\": [{\"Fecha\": \"2021-01-03T00:00:00\", \"Hora\": \"2021-11-14T09:00:00\", \"Descripci\\u00f3n\": \"Papaya\", \"Cantidad(g)\": 227.0, \"Costo($)\": 385.9, \"Mes\": \"marzo\"}, {\"Fecha\": \"2021-01-03T00:00:00\", \"Hora\": \"2021-11-14T09:00:00\", \"Descripci\\u00f3n\": \"Pl\\u00e1tano\", \"Cantidad(g)\": 165.0, \"Costo($)\": 379.5, \"Mes\": \"marzo\"}, {\"Fecha\": \"2021-02-03T00:00:00\", \"Hora\": \"2021-11-14T09:30:00\", \"Descripci\\u00f3n\": \"Pl\\u00e1tano\", \"Cantidad(g)\": 164.0, \"Costo($)\": 377.2, \"Mes\": \"marzo\"}, {\"Fecha\": \"2021-03-03T00:00:00\", \"Hora\": \"2021-11-14T08:30:00\", \"Descripci\\u00f3n\": \"Banano\", \"Cantidad(g)\": 148.0, \"Costo($)\": 355.2, \"Mes\": \"marzo\"}, {\"Fecha\": \"2021-03-03T00:00:00\", \"Hora\": \"2021-11-14T13:00:00\", \"Descripci\\u00f3n\": \"Banano\", \"Cantidad(g)\": 124.0, \"Costo($)\": 297.6, \"Mes\": \"marzo\"}, {\"Fecha\": \"2021-04-03T00:00:00\", \"Hora\": \"2021-11-14T07:00:00\", \"Descripci\\u00f3n\": \"Banano\", \"Cantidad(g)\": 136.0, \"Costo($)\": 326.4, \"Mes\": \"marzo\"}, {\"Fecha\": \"2021-05-03T00:00:00\", \"Hora\": \"2021-11-14T06:30:00\", \"Descripci\\u00f3n\": \"Banano\", \"Cantidad(g)\": 112.0, \"Costo($)\": 268.8, \"Mes\": \"marzo\"}, {\"Fecha\": \"2021-06-03T00:00:00\", \"Hora\": \"2021-11-14T14:00:00\", \"Descripci\\u00f3n\": \"Pl\\u00e1tano\", \"Cantidad(g)\": 274.0, \"Costo($)\": 630.2, \"Mes\": \"marzo\"}, {\"Fecha\": \"2021-07-03T00:00:00\", \"Hora\": \"2021-11-14T11:00:00\", \"Descripci\\u00f3n\": \"Papaya\", \"Cantidad(g)\": 222.0, \"Costo($)\": 377.4, \"Mes\": \"marzo\"}, {\"Fecha\": \"2021-08-03T00:00:00\", \"Hora\": \"2021-11-14T07:30:00\", \"Descripci\\u00f3n\": \"Banano\", \"Cantidad(g)\": 125.0, \"Costo($)\": 300.0, \"Mes\": \"marzo\"}, {\"Fecha\": \"2021-09-03T00:00:00\", \"Hora\": \"2021-11-14T08:00:00\", \"Descripci\\u00f3n\": \"Banano\", \"Cantidad(g)\": 139.0, \"Costo($)\": 333.6, \"Mes\": \"marzo\"}, {\"Fecha\": \"2021-10-03T00:00:00\", \"Hora\": \"2021-11-14T07:30:00\", \"Descripci\\u00f3n\": \"Pl\\u00e1tano\", \"Cantidad(g)\": 275.0, \"Costo($)\": 632.5, \"Mes\": \"marzo\"}, {\"Fecha\": \"2021-11-03T00:00:00\", \"Hora\": \"2021-11-14T09:30:00\", \"Descripci\\u00f3n\": \"Pl\\u00e1tano\", \"Cantidad(g)\": 248.0, \"Costo($)\": 570.4, \"Mes\": \"marzo\"}, {\"Fecha\": \"2021-03-13T00:00:00\", \"Hora\": \"2021-11-14T10:30:00\", \"Descripci\\u00f3n\": \"Pl\\u00e1tano\", \"Cantidad(g)\": 281.0, \"Costo($)\": 646.3, \"Mes\": \"marzo\"}, {\"Fecha\": \"2021-03-14T00:00:00\", \"Hora\": \"2021-11-14T08:00:00\", \"Descripci\\u00f3n\": \"Pl\\u00e1tano\", \"Cantidad(g)\": 230.0, \"Costo($)\": 529.0, \"Mes\": \"marzo\"}, {\"Fecha\": \"2021-03-15T00:00:00\", \"Hora\": \"2021-11-14T08:30:00\", \"Descripci\\u00f3n\": \"Pl\\u00e1tano\", \"Cantidad(g)\": 227.0, \"Costo($)\": 522.1, \"Mes\": \"marzo\"}, {\"Fecha\": \"2021-03-16T00:00:00\", \"Hora\": \"2021-11-14T07:30:00\", \"Descripci\\u00f3n\": \"Pl\\u00e1tano\", \"Cantidad(g)\": 297.0, \"Costo($)\": 683.1, \"Mes\": \"marzo\"}, {\"Fecha\": \"2021-03-18T00:00:00\", \"Hora\": \"2021-11-14T09:00:00\", \"Descripci\\u00f3n\": \"Pl\\u00e1tano\", \"Cantidad(g)\": 125.0, \"Costo($)\": 287.5, \"Mes\": \"marzo\"}, {\"Fecha\": \"2021-03-18T00:00:00\", \"Hora\": \"2021-11-14T12:00:00\", \"Descripci\\u00f3n\": \"Banano\", \"Cantidad(g)\": 164.0, \"Costo($)\": 393.6, \"Mes\": \"marzo\"}, {\"Fecha\": \"2021-03-19T00:00:00\", \"Hora\": \"2021-11-14T07:00:00\", \"Descripci\\u00f3n\": \"Pl\\u00e1tano\", \"Cantidad(g)\": 246.0, \"Costo($)\": 565.8, \"Mes\": \"marzo\"}, {\"Fecha\": \"2021-03-23T00:00:00\", \"Hora\": \"2021-11-14T10:00:00\", \"Descripci\\u00f3n\": \"Pl\\u00e1tano\", \"Cantidad(g)\": 246.0, \"Costo($)\": 565.8, \"Mes\": \"marzo\"}, {\"Fecha\": \"2021-03-24T00:00:00\", \"Hora\": \"2021-11-14T12:00:00\", \"Descripci\\u00f3n\": \"Banano\", \"Cantidad(g)\": 325.0, \"Costo($)\": 780.0, \"Mes\": \"marzo\"}, {\"Fecha\": \"2021-06-04T00:00:00\", \"Hora\": \"2021-11-14T06:00:00\", \"Descripci\\u00f3n\": \"Banano\", \"Cantidad(g)\": 150.0, \"Costo($)\": 360.0, \"Mes\": \"abril\"}, {\"Fecha\": \"2021-06-04T00:00:00\", \"Hora\": \"2021-11-14T10:30:00\", \"Descripci\\u00f3n\": \"Papaya\", \"Cantidad(g)\": 117.0, \"Costo($)\": 198.9, \"Mes\": \"abril\"}, {\"Fecha\": \"2021-07-04T00:00:00\", \"Hora\": \"2021-11-14T12:30:00\", \"Descripci\\u00f3n\": \"Pl\\u00e1tano\", \"Cantidad(g)\": 194.0, \"Costo($)\": 446.2, \"Mes\": \"abril\"}, {\"Fecha\": \"2021-10-04T00:00:00\", \"Hora\": \"2021-11-14T13:00:00\", \"Descripci\\u00f3n\": \"Pl\\u00e1tano\", \"Cantidad(g)\": 195.0, \"Costo($)\": 448.5, \"Mes\": \"abril\"}, {\"Fecha\": \"2021-04-14T00:00:00\", \"Hora\": \"2021-11-14T08:30:00\", \"Descripci\\u00f3n\": \"Pl\\u00e1tano\", \"Cantidad(g)\": 165.0, \"Costo($)\": 379.5, \"Mes\": \"abril\"}, {\"Fecha\": \"2021-04-15T00:00:00\", \"Hora\": \"2021-11-14T09:30:00\", \"Descripci\\u00f3n\": \"Pl\\u00e1tano\", \"Cantidad(g)\": 145.0, \"Costo($)\": 333.5, \"Mes\": \"abril\"}, {\"Fecha\": \"2021-04-16T00:00:00\", \"Hora\": \"2021-11-14T12:00:00\", \"Descripci\\u00f3n\": \"Pl\\u00e1tano\", \"Cantidad(g)\": 225.0, \"Costo($)\": 517.5, \"Mes\": \"abril\"}, {\"Fecha\": \"2021-04-19T00:00:00\", \"Hora\": \"2021-11-14T08:30:00\", \"Descripci\\u00f3n\": \"Pl\\u00e1tano\", \"Cantidad(g)\": 215.0, \"Costo($)\": 494.5, \"Mes\": \"abril\"}, {\"Fecha\": \"2021-04-21T00:00:00\", \"Hora\": \"2021-11-14T10:00:00\", \"Descripci\\u00f3n\": \"Pl\\u00e1tano\", \"Cantidad(g)\": 194.0, \"Costo($)\": 446.2, \"Mes\": \"abril\"}, {\"Fecha\": \"2021-04-23T00:00:00\", \"Hora\": \"2021-11-14T06:30:00\", \"Descripci\\u00f3n\": \"Pl\\u00e1tano\", \"Cantidad(g)\": 215.0, \"Costo($)\": 494.5, \"Mes\": \"abril\"}, {\"Fecha\": \"2021-04-25T00:00:00\", \"Hora\": \"2021-11-14T09:00:00\", \"Descripci\\u00f3n\": \"Pl\\u00e1tano\", \"Cantidad(g)\": 269.0, \"Costo($)\": 618.7, \"Mes\": \"abril\"}, {\"Fecha\": \"2021-04-26T00:00:00\", \"Hora\": \"2021-11-14T11:00:00\", \"Descripci\\u00f3n\": \"Pl\\u00e1tano\", \"Cantidad(g)\": 289.0, \"Costo($)\": 664.7, \"Mes\": \"abril\"}, {\"Fecha\": \"2021-04-27T00:00:00\", \"Hora\": \"2021-11-14T09:00:00\", \"Descripci\\u00f3n\": \"Pl\\u00e1tano\", \"Cantidad(g)\": 284.0, \"Costo($)\": 653.2, \"Mes\": \"abril\"}, {\"Fecha\": \"2021-04-28T00:00:00\", \"Hora\": \"2021-11-14T08:00:00\", \"Descripci\\u00f3n\": \"Pl\\u00e1tano\", \"Cantidad(g)\": 292.0, \"Costo($)\": 671.6, \"Mes\": \"abril\"}, {\"Fecha\": \"2021-04-30T00:00:00\", \"Hora\": \"2021-11-14T13:00:00\", \"Descripci\\u00f3n\": \"Banano\", \"Cantidad(g)\": 139.0, \"Costo($)\": 333.6, \"Mes\": \"abril\"}, {\"Fecha\": \"2021-04-30T00:00:00\", \"Hora\": \"2021-11-14T16:00:00\", \"Descripci\\u00f3n\": \"Banano\", \"Cantidad(g)\": 107.0, \"Costo($)\": 256.8, \"Mes\": \"abril\"}, {\"Fecha\": \"2021-01-05T00:00:00\", \"Hora\": \"2021-11-14T10:00:00\", \"Descripci\\u00f3n\": \"Banano\", \"Cantidad(g)\": 111.0, \"Costo($)\": 266.4, \"Mes\": \"mayo\"}, {\"Fecha\": \"2021-01-05T00:00:00\", \"Hora\": \"2021-11-14T14:00:00\", \"Descripci\\u00f3n\": \"Banano\", \"Cantidad(g)\": 99.0, \"Costo($)\": 237.6, \"Mes\": \"mayo\"}, {\"Fecha\": \"2021-01-05T00:00:00\", \"Hora\": \"2021-11-14T16:30:00\", \"Descripci\\u00f3n\": \"Banano\", \"Cantidad(g)\": 99.0, \"Costo($)\": 237.6, \"Mes\": \"mayo\"}, {\"Fecha\": \"2021-02-05T00:00:00\", \"Hora\": \"2021-11-14T07:00:00\", \"Descripci\\u00f3n\": \"Banano\", \"Cantidad(g)\": 110.0, \"Costo($)\": 264.0, \"Mes\": \"mayo\"}, {\"Fecha\": \"2021-02-05T00:00:00\", \"Hora\": \"2021-11-14T10:00:00\", \"Descripci\\u00f3n\": \"Banano\", \"Cantidad(g)\": 115.0, \"Costo($)\": 276.0, \"Mes\": \"mayo\"}, {\"Fecha\": \"2021-03-05T00:00:00\", \"Hora\": \"2021-11-14T08:00:00\", \"Descripci\\u00f3n\": \"Banano\", \"Cantidad(g)\": 105.0, \"Costo($)\": 252.0, \"Mes\": \"mayo\"}, {\"Fecha\": \"2021-03-05T00:00:00\", \"Hora\": \"2021-11-14T13:30:00\", \"Descripci\\u00f3n\": \"Pl\\u00e1tano\", \"Cantidad(g)\": 246.0, \"Costo($)\": 565.8, \"Mes\": \"mayo\"}, {\"Fecha\": \"2021-04-05T00:00:00\", \"Hora\": \"2021-11-14T10:00:00\", \"Descripci\\u00f3n\": \"Pl\\u00e1tano\", \"Cantidad(g)\": 238.0, \"Costo($)\": 547.4, \"Mes\": \"mayo\"}, {\"Fecha\": \"2021-05-05T00:00:00\", \"Hora\": \"2021-11-14T07:00:00\", \"Descripci\\u00f3n\": \"Pl\\u00e1tano\", \"Cantidad(g)\": 261.0, \"Costo($)\": 600.3, \"Mes\": \"mayo\"}, {\"Fecha\": \"2021-06-05T00:00:00\", \"Hora\": \"2021-11-14T06:00:00\", \"Descripci\\u00f3n\": \"Pl\\u00e1tano\", \"Cantidad(g)\": 310.0, \"Costo($)\": 713.0, \"Mes\": \"mayo\"}, {\"Fecha\": \"2021-07-05T00:00:00\", \"Hora\": \"2021-11-14T11:00:00\", \"Descripci\\u00f3n\": \"Papaya\", \"Cantidad(g)\": 180.0, \"Costo($)\": 306.0, \"Mes\": \"mayo\"}, {\"Fecha\": \"2021-07-05T00:00:00\", \"Hora\": \"2021-11-14T16:00:00\", \"Descripci\\u00f3n\": \"Papaya\", \"Cantidad(g)\": 72.0, \"Costo($)\": 122.4, \"Mes\": \"mayo\"}, {\"Fecha\": \"2021-08-05T00:00:00\", \"Hora\": \"2021-11-14T09:00:00\", \"Descripci\\u00f3n\": \"Papaya\", \"Cantidad(g)\": 184.0, \"Costo($)\": 312.8, \"Mes\": \"mayo\"}, {\"Fecha\": \"2021-09-05T00:00:00\", \"Hora\": \"2021-11-14T08:30:00\", \"Descripci\\u00f3n\": \"Banano\", \"Cantidad(g)\": 160.0, \"Costo($)\": 384.0, \"Mes\": \"mayo\"}, {\"Fecha\": \"2021-09-05T00:00:00\", \"Hora\": \"2021-11-14T10:30:00\", \"Descripci\\u00f3n\": \"Papaya\", \"Cantidad(g)\": 110.0, \"Costo($)\": 187.0, \"Mes\": \"mayo\"}, {\"Fecha\": \"2021-10-05T00:00:00\", \"Hora\": \"2021-11-14T07:00:00\", \"Descripci\\u00f3n\": \"Papaya\", \"Cantidad(g)\": 132.0, \"Costo($)\": 224.4, \"Mes\": \"mayo\"}, {\"Fecha\": \"2021-11-05T00:00:00\", \"Hora\": \"2021-11-14T10:00:00\", \"Descripci\\u00f3n\": \"Naranja\", \"Cantidad(g)\": 209.0, \"Costo($)\": 836.0, \"Mes\": \"mayo\"}, {\"Fecha\": \"2021-12-05T00:00:00\", \"Hora\": \"2021-11-14T13:30:00\", \"Descripci\\u00f3n\": \"Naranja\", \"Cantidad(g)\": 246.0, \"Costo($)\": 984.0, \"Mes\": \"mayo\"}, {\"Fecha\": \"2021-05-13T00:00:00\", \"Hora\": \"2021-11-14T06:00:00\", \"Descripci\\u00f3n\": \"Naranja\", \"Cantidad(g)\": 198.0, \"Costo($)\": 792.0, \"Mes\": \"mayo\"}, {\"Fecha\": \"2021-05-14T00:00:00\", \"Hora\": \"2021-11-14T06:30:00\", \"Descripci\\u00f3n\": \"Naranja\", \"Cantidad(g)\": 197.0, \"Costo($)\": 788.0, \"Mes\": \"mayo\"}, {\"Fecha\": \"2021-05-15T00:00:00\", \"Hora\": \"2021-11-14T09:30:00\", \"Descripci\\u00f3n\": \"Pl\\u00e1tano\", \"Cantidad(g)\": 320.0, \"Costo($)\": 736.0, \"Mes\": \"mayo\"}, {\"Fecha\": \"2021-05-16T00:00:00\", \"Hora\": \"2021-11-14T08:30:00\", \"Descripci\\u00f3n\": \"Papaya\", \"Cantidad(g)\": 416.0, \"Costo($)\": 707.2, \"Mes\": \"mayo\"}, {\"Fecha\": \"2021-05-17T00:00:00\", \"Hora\": \"2021-11-14T09:00:00\", \"Descripci\\u00f3n\": \"Pl\\u00e1tano\", \"Cantidad(g)\": 263.0, \"Costo($)\": 604.9, \"Mes\": \"mayo\"}, {\"Fecha\": \"2021-05-18T00:00:00\", \"Hora\": \"2021-11-14T11:30:00\", \"Descripci\\u00f3n\": \"Pl\\u00e1tano\", \"Cantidad(g)\": 252.0, \"Costo($)\": 579.6, \"Mes\": \"mayo\"}, {\"Fecha\": \"2021-05-19T00:00:00\", \"Hora\": \"2021-11-14T10:00:00\", \"Descripci\\u00f3n\": \"Pl\\u00e1tano\", \"Cantidad(g)\": 243.0, \"Costo($)\": 558.9, \"Mes\": \"mayo\"}, {\"Fecha\": \"2021-05-20T00:00:00\", \"Hora\": \"2021-11-14T12:30:00\", \"Descripci\\u00f3n\": \"Pl\\u00e1tano\", \"Cantidad(g)\": 308.0, \"Costo($)\": 708.4, \"Mes\": \"mayo\"}, {\"Fecha\": \"2021-05-21T00:00:00\", \"Hora\": \"2021-11-14T15:00:00\", \"Descripci\\u00f3n\": \"Pl\\u00e1tano\", \"Cantidad(g)\": 314.0, \"Costo($)\": 722.2, \"Mes\": \"mayo\"}, {\"Fecha\": \"2021-05-23T00:00:00\", \"Hora\": \"2021-11-14T08:00:00\", \"Descripci\\u00f3n\": \"Pl\\u00e1tano\", \"Cantidad(g)\": 275.0, \"Costo($)\": 632.5, \"Mes\": \"mayo\"}, {\"Fecha\": \"2021-05-24T00:00:00\", \"Hora\": \"2021-11-14T08:00:00\", \"Descripci\\u00f3n\": \"Naranja\", \"Cantidad(g)\": 247.0, \"Costo($)\": 988.0, \"Mes\": \"mayo\"}, {\"Fecha\": \"2021-05-24T00:00:00\", \"Hora\": \"2021-11-14T16:30:00\", \"Descripci\\u00f3n\": \"Pl\\u00e1tano\", \"Cantidad(g)\": 315.0, \"Costo($)\": 724.5, \"Mes\": \"mayo\"}, {\"Fecha\": \"2021-05-25T00:00:00\", \"Hora\": \"2021-11-14T16:30:00\", \"Descripci\\u00f3n\": \"Pl\\u00e1tano\", \"Cantidad(g)\": 304.0, \"Costo($)\": 699.2, \"Mes\": \"mayo\"}, {\"Fecha\": \"2021-01-06T00:00:00\", \"Hora\": \"2021-11-14T08:30:00\", \"Descripci\\u00f3n\": \"Pl\\u00e1tano\", \"Cantidad(g)\": 200.0, \"Costo($)\": 460.0, \"Mes\": \"junio\"}, {\"Fecha\": \"2021-02-06T00:00:00\", \"Hora\": \"2021-11-14T07:00:00\", \"Descripci\\u00f3n\": \"Pl\\u00e1tano\", \"Cantidad(g)\": 284.0, \"Costo($)\": 653.2, \"Mes\": \"junio\"}, {\"Fecha\": \"2021-03-06T00:00:00\", \"Hora\": \"2021-11-14T08:30:00\", \"Descripci\\u00f3n\": \"Pl\\u00e1tano\", \"Cantidad(g)\": 285.0, \"Costo($)\": 655.5, \"Mes\": \"junio\"}, {\"Fecha\": \"2021-04-06T00:00:00\", \"Hora\": \"2021-11-14T10:00:00\", \"Descripci\\u00f3n\": \"Pl\\u00e1tano\", \"Cantidad(g)\": 235.0, \"Costo($)\": 540.5, \"Mes\": \"junio\"}, {\"Fecha\": \"2021-05-06T00:00:00\", \"Hora\": \"2021-11-14T12:00:00\", \"Descripci\\u00f3n\": \"Pl\\u00e1tano\", \"Cantidad(g)\": 303.0, \"Costo($)\": 696.9, \"Mes\": \"junio\"}, {\"Fecha\": \"2021-06-06T00:00:00\", \"Hora\": \"2021-11-14T14:00:00\", \"Descripci\\u00f3n\": \"Pl\\u00e1tano\", \"Cantidad(g)\": 184.0, \"Costo($)\": 423.2, \"Mes\": \"junio\"}, {\"Fecha\": \"2021-08-06T00:00:00\", \"Hora\": \"2021-11-14T14:00:00\", \"Descripci\\u00f3n\": \"Pl\\u00e1tano\", \"Cantidad(g)\": 260.0, \"Costo($)\": 598.0, \"Mes\": \"junio\"}, {\"Fecha\": \"2021-09-06T00:00:00\", \"Hora\": \"2021-11-14T16:00:00\", \"Descripci\\u00f3n\": \"Pl\\u00e1tano\", \"Cantidad(g)\": 131.0, \"Costo($)\": 301.3, \"Mes\": \"junio\"}, {\"Fecha\": \"2021-11-06T00:00:00\", \"Hora\": \"2021-11-14T06:00:00\", \"Descripci\\u00f3n\": \"Banano\", \"Cantidad(g)\": 220.0, \"Costo($)\": 528.0, \"Mes\": \"junio\"}, {\"Fecha\": \"2021-11-06T00:00:00\", \"Hora\": \"2021-11-14T14:00:00\", \"Descripci\\u00f3n\": \"Banano\", \"Cantidad(g)\": 227.0, \"Costo($)\": 544.8, \"Mes\": \"junio\"}, {\"Fecha\": \"2021-12-06T00:00:00\", \"Hora\": \"2021-11-14T09:30:00\", \"Descripci\\u00f3n\": \"Banano\", \"Cantidad(g)\": 228.0, \"Costo($)\": 547.2, \"Mes\": \"junio\"}, {\"Fecha\": \"2021-12-06T00:00:00\", \"Hora\": \"2021-11-14T15:00:00\", \"Descripci\\u00f3n\": \"Banano\", \"Cantidad(g)\": 202.0, \"Costo($)\": 484.8, \"Mes\": \"junio\"}, {\"Fecha\": \"2021-06-13T00:00:00\", \"Hora\": \"2021-11-14T13:00:00\", \"Descripci\\u00f3n\": \"Banano\", \"Cantidad(g)\": 94.0, \"Costo($)\": 225.6, \"Mes\": \"junio\"}, {\"Fecha\": \"2021-06-14T00:00:00\", \"Hora\": \"2021-11-14T10:00:00\", \"Descripci\\u00f3n\": \"Banano\", \"Cantidad(g)\": 165.0, \"Costo($)\": 396.0, \"Mes\": \"junio\"}, {\"Fecha\": \"2021-06-15T00:00:00\", \"Hora\": \"2021-11-14T09:30:00\", \"Descripci\\u00f3n\": \"Pl\\u00e1tano\", \"Cantidad(g)\": 252.0, \"Costo($)\": 579.6, \"Mes\": \"junio\"}, {\"Fecha\": \"2021-06-16T00:00:00\", \"Hora\": \"2021-11-14T06:00:00\", \"Descripci\\u00f3n\": \"Pl\\u00e1tano\", \"Cantidad(g)\": 167.0, \"Costo($)\": 384.1, \"Mes\": \"junio\"}, {\"Fecha\": \"2021-06-17T00:00:00\", \"Hora\": \"2021-11-14T06:00:00\", \"Descripci\\u00f3n\": \"Pl\\u00e1tano\", \"Cantidad(g)\": 221.0, \"Costo($)\": 508.3, \"Mes\": \"junio\"}, {\"Fecha\": \"2021-06-18T00:00:00\", \"Hora\": \"2021-11-14T07:00:00\", \"Descripci\\u00f3n\": \"Pl\\u00e1tano\", \"Cantidad(g)\": 284.0, \"Costo($)\": 653.2, \"Mes\": \"junio\"}, {\"Fecha\": \"2021-06-19T00:00:00\", \"Hora\": \"2021-11-14T08:00:00\", \"Descripci\\u00f3n\": \"Pl\\u00e1tano\", \"Cantidad(g)\": 347.0, \"Costo($)\": 798.1, \"Mes\": \"junio\"}, {\"Fecha\": \"2021-06-21T00:00:00\", \"Hora\": \"2021-11-14T07:00:00\", \"Descripci\\u00f3n\": \"Pl\\u00e1tano\", \"Cantidad(g)\": 251.0, \"Costo($)\": 577.3, \"Mes\": \"junio\"}, {\"Fecha\": \"2021-06-22T00:00:00\", \"Hora\": \"2021-11-14T07:30:00\", \"Descripci\\u00f3n\": \"Pl\\u00e1tano\", \"Cantidad(g)\": 316.0, \"Costo($)\": 726.8, \"Mes\": \"junio\"}, {\"Fecha\": \"2021-06-23T00:00:00\", \"Hora\": \"2021-11-14T11:00:00\", \"Descripci\\u00f3n\": \"Pl\\u00e1tano\", \"Cantidad(g)\": 290.0, \"Costo($)\": 667.0, \"Mes\": \"junio\"}, {\"Fecha\": \"2021-06-28T00:00:00\", \"Hora\": \"2021-11-14T15:00:00\", \"Descripci\\u00f3n\": \"Pl\\u00e1tano\", \"Cantidad(g)\": 282.0, \"Costo($)\": 648.6, \"Mes\": \"junio\"}, {\"Fecha\": \"2021-06-30T00:00:00\", \"Hora\": \"2021-11-14T06:00:00\", \"Descripci\\u00f3n\": \"Pl\\u00e1tano\", \"Cantidad(g)\": 252.0, \"Costo($)\": 579.6, \"Mes\": \"junio\"}, {\"Fecha\": \"2021-01-07T00:00:00\", \"Hora\": \"2021-11-14T07:00:00\", \"Descripci\\u00f3n\": \"Pl\\u00e1tano\", \"Cantidad(g)\": 260.0, \"Costo($)\": 598.0, \"Mes\": \"julio\"}, {\"Fecha\": \"2021-02-07T00:00:00\", \"Hora\": \"2021-11-14T10:00:00\", \"Descripci\\u00f3n\": \"Pl\\u00e1tano\", \"Cantidad(g)\": 265.0, \"Costo($)\": 609.5, \"Mes\": \"julio\"}, {\"Fecha\": \"2021-04-07T00:00:00\", \"Hora\": \"2021-11-14T10:00:00\", \"Descripci\\u00f3n\": \"Pl\\u00e1tano\", \"Cantidad(g)\": 269.0, \"Costo($)\": 618.7, \"Mes\": \"julio\"}, {\"Fecha\": \"2021-05-07T00:00:00\", \"Hora\": \"2021-11-14T06:30:00\", \"Descripci\\u00f3n\": \"Pl\\u00e1tano\", \"Cantidad(g)\": 245.0, \"Costo($)\": 563.5, \"Mes\": \"julio\"}, {\"Fecha\": \"2021-06-07T00:00:00\", \"Hora\": \"2021-11-14T06:30:00\", \"Descripci\\u00f3n\": \"Banano\", \"Cantidad(g)\": 171.0, \"Costo($)\": 410.4, \"Mes\": \"julio\"}, {\"Fecha\": \"2021-06-07T00:00:00\", \"Hora\": \"2021-11-14T14:00:00\", \"Descripci\\u00f3n\": \"Banano\", \"Cantidad(g)\": 156.0, \"Costo($)\": 374.4, \"Mes\": \"julio\"}, {\"Fecha\": \"2021-07-07T00:00:00\", \"Hora\": \"2021-11-14T13:00:00\", \"Descripci\\u00f3n\": \"Pl\\u00e1tano\", \"Cantidad(g)\": 136.0, \"Costo($)\": 312.8, \"Mes\": \"julio\"}, {\"Fecha\": \"2021-08-07T00:00:00\", \"Hora\": \"2021-11-14T06:30:00\", \"Descripci\\u00f3n\": \"Pl\\u00e1tano\", \"Cantidad(g)\": 254.0, \"Costo($)\": 584.2, \"Mes\": \"julio\"}, {\"Fecha\": \"2021-09-07T00:00:00\", \"Hora\": \"2021-11-14T06:30:00\", \"Descripci\\u00f3n\": \"Pl\\u00e1tano\", \"Cantidad(g)\": 279.0, \"Costo($)\": 641.7, \"Mes\": \"julio\"}, {\"Fecha\": \"2021-10-07T00:00:00\", \"Hora\": \"2021-11-14T10:30:00\", \"Descripci\\u00f3n\": \"Pl\\u00e1tano\", \"Cantidad(g)\": 259.0, \"Costo($)\": 595.7, \"Mes\": \"julio\"}, {\"Fecha\": \"2021-11-07T00:00:00\", \"Hora\": \"2021-11-14T12:00:00\", \"Descripci\\u00f3n\": \"Pl\\u00e1tano\", \"Cantidad(g)\": 306.0, \"Costo($)\": 703.8, \"Mes\": \"julio\"}, {\"Fecha\": \"2021-12-07T00:00:00\", \"Hora\": \"2021-11-14T10:30:00\", \"Descripci\\u00f3n\": \"Pl\\u00e1tano\", \"Cantidad(g)\": 236.0, \"Costo($)\": 542.8, \"Mes\": \"julio\"}, {\"Fecha\": \"2021-07-13T00:00:00\", \"Hora\": \"2021-11-14T10:30:00\", \"Descripci\\u00f3n\": \"Pl\\u00e1tano\", \"Cantidad(g)\": 251.0, \"Costo($)\": 577.3, \"Mes\": \"julio\"}, {\"Fecha\": \"2021-07-14T00:00:00\", \"Hora\": \"2021-11-14T10:30:00\", \"Descripci\\u00f3n\": \"Pl\\u00e1tano\", \"Cantidad(g)\": 238.0, \"Costo($)\": 547.4, \"Mes\": \"julio\"}, {\"Fecha\": \"2021-07-15T00:00:00\", \"Hora\": \"2021-11-14T07:30:00\", \"Descripci\\u00f3n\": \"Pl\\u00e1tano\", \"Cantidad(g)\": 305.0, \"Costo($)\": 701.5, \"Mes\": \"julio\"}, {\"Fecha\": \"2021-07-15T00:00:00\", \"Hora\": \"2021-11-14T16:00:00\", \"Descripci\\u00f3n\": \"Pl\\u00e1tano\", \"Cantidad(g)\": 249.0, \"Costo($)\": 572.7, \"Mes\": \"julio\"}, {\"Fecha\": \"2021-07-17T00:00:00\", \"Hora\": \"2021-11-14T09:00:00\", \"Descripci\\u00f3n\": \"Pl\\u00e1tano\", \"Cantidad(g)\": 319.0, \"Costo($)\": 733.7, \"Mes\": \"julio\"}]}}, {\"actions\": false, \"mode\": \"vega-lite\"});\n</script>",
      "text/plain": "alt.Chart(...)"
     },
     "metadata": {}
    }
   ]
  },
  {
   "cell_type": "code",
   "metadata": {
    "tags": [],
    "cell_id": "00010-dd8ef7a8-ae05-4634-8e2e-4ea71cec45f3",
    "deepnote_to_be_reexecuted": false,
    "source_hash": "c37148fd",
    "execution_start": 1636910321455,
    "execution_millis": 113,
    "deepnote_cell_type": "code"
   },
   "source": "# Descriptive statistic\ndf.describe()",
   "execution_count": 8,
   "outputs": [
    {
     "output_type": "execute_result",
     "execution_count": 8,
     "data": {
      "application/vnd.deepnote.dataframe.v2+json": {
       "row_count": 8,
       "column_count": 2,
       "columns": [
        {
         "name": "Cantidad(g)",
         "dtype": "float64",
         "stats": {
          "unique_count": 8,
          "nan_count": 0,
          "min": "69.5796481705171",
          "max": "416.0",
          "histogram": [
           {
            "bin_start": 69.5796481705171,
            "bin_end": 104.2216833534654,
            "count": 2
           },
           {
            "bin_start": 104.2216833534654,
            "bin_end": 138.86371853641367,
            "count": 1
           },
           {
            "bin_start": 138.86371853641367,
            "bin_end": 173.50575371936196,
            "count": 1
           },
           {
            "bin_start": 173.50575371936196,
            "bin_end": 208.14778890231025,
            "count": 0
           },
           {
            "bin_start": 208.14778890231025,
            "bin_end": 242.78982408525854,
            "count": 2
           },
           {
            "bin_start": 242.78982408525854,
            "bin_end": 277.43185926820684,
            "count": 1
           },
           {
            "bin_start": 277.43185926820684,
            "bin_end": 312.0738944511551,
            "count": 0
           },
           {
            "bin_start": 312.0738944511551,
            "bin_end": 346.7159296341034,
            "count": 0
           },
           {
            "bin_start": 346.7159296341034,
            "bin_end": 381.3579648170517,
            "count": 0
           },
           {
            "bin_start": 381.3579648170517,
            "bin_end": 416,
            "count": 1
           }
          ]
         }
        },
        {
         "name": "Costo($)",
         "dtype": "float64",
         "stats": {
          "unique_count": 8,
          "nan_count": 0,
          "min": "110.0",
          "max": "988.0",
          "histogram": [
           {
            "bin_start": 110,
            "bin_end": 197.8,
            "count": 3
           },
           {
            "bin_start": 197.8,
            "bin_end": 285.6,
            "count": 0
           },
           {
            "bin_start": 285.6,
            "bin_end": 373.4,
            "count": 0
           },
           {
            "bin_start": 373.4,
            "bin_end": 461.2,
            "count": 1
           },
           {
            "bin_start": 461.2,
            "bin_end": 549,
            "count": 2
           },
           {
            "bin_start": 549,
            "bin_end": 636.8,
            "count": 0
           },
           {
            "bin_start": 636.8,
            "bin_end": 724.6,
            "count": 1
           },
           {
            "bin_start": 724.6,
            "bin_end": 812.4,
            "count": 0
           },
           {
            "bin_start": 812.4,
            "bin_end": 900.1999999999999,
            "count": 0
           },
           {
            "bin_start": 900.1999999999999,
            "bin_end": 988,
            "count": 1
           }
          ]
         }
        },
        {
         "name": "_deepnote_index_column",
         "dtype": "object"
        }
       ],
       "rows_top": [
        {
         "Cantidad(g)": 110,
         "Costo($)": 110,
         "_deepnote_index_column": "count"
        },
        {
         "Cantidad(g)": 220.1090909090909,
         "Costo($)": 517.7236363636364,
         "_deepnote_index_column": "mean"
        },
        {
         "Cantidad(g)": 69.5796481705171,
         "Costo($)": 178.7933197278805,
         "_deepnote_index_column": "std"
        },
        {
         "Cantidad(g)": 72,
         "Costo($)": 122.4,
         "_deepnote_index_column": "min"
        },
        {
         "Cantidad(g)": 164.25,
         "Costo($)": 377.25,
         "_deepnote_index_column": "25%"
        },
        {
         "Cantidad(g)": 232.5,
         "Costo($)": 547.4,
         "_deepnote_index_column": "50%"
        },
        {
         "Cantidad(g)": 272.75,
         "Costo($)": 648.0250000000001,
         "_deepnote_index_column": "75%"
        },
        {
         "Cantidad(g)": 416,
         "Costo($)": 988,
         "_deepnote_index_column": "max"
        }
       ],
       "rows_bottom": null
      },
      "text/plain": "       Cantidad(g)    Costo($)\ncount   110.000000  110.000000\nmean    220.109091  517.723636\nstd      69.579648  178.793320\nmin      72.000000  122.400000\n25%     164.250000  377.250000\n50%     232.500000  547.400000\n75%     272.750000  648.025000\nmax     416.000000  988.000000",
      "text/html": "<div>\n<style scoped>\n    .dataframe tbody tr th:only-of-type {\n        vertical-align: middle;\n    }\n\n    .dataframe tbody tr th {\n        vertical-align: top;\n    }\n\n    .dataframe thead th {\n        text-align: right;\n    }\n</style>\n<table border=\"1\" class=\"dataframe\">\n  <thead>\n    <tr style=\"text-align: right;\">\n      <th></th>\n      <th>Cantidad(g)</th>\n      <th>Costo($)</th>\n    </tr>\n  </thead>\n  <tbody>\n    <tr>\n      <th>count</th>\n      <td>110.000000</td>\n      <td>110.000000</td>\n    </tr>\n    <tr>\n      <th>mean</th>\n      <td>220.109091</td>\n      <td>517.723636</td>\n    </tr>\n    <tr>\n      <th>std</th>\n      <td>69.579648</td>\n      <td>178.793320</td>\n    </tr>\n    <tr>\n      <th>min</th>\n      <td>72.000000</td>\n      <td>122.400000</td>\n    </tr>\n    <tr>\n      <th>25%</th>\n      <td>164.250000</td>\n      <td>377.250000</td>\n    </tr>\n    <tr>\n      <th>50%</th>\n      <td>232.500000</td>\n      <td>547.400000</td>\n    </tr>\n    <tr>\n      <th>75%</th>\n      <td>272.750000</td>\n      <td>648.025000</td>\n    </tr>\n    <tr>\n      <th>max</th>\n      <td>416.000000</td>\n      <td>988.000000</td>\n    </tr>\n  </tbody>\n</table>\n</div>"
     },
     "metadata": {}
    }
   ]
  },
  {
   "cell_type": "code",
   "metadata": {
    "tags": [],
    "cell_id": "00010-9c6b34b6-7ff7-43ac-ab95-c53e133b985e",
    "deepnote_to_be_reexecuted": false,
    "source_hash": "18319473",
    "execution_start": 1636910321616,
    "execution_millis": 44,
    "deepnote_cell_type": "code"
   },
   "source": "# Group by fruits \ndf_fruits = df.groupby('Descripción').sum()\ndf_fruits",
   "execution_count": 9,
   "outputs": [
    {
     "output_type": "execute_result",
     "execution_count": 9,
     "data": {
      "application/vnd.deepnote.dataframe.v2+json": {
       "row_count": 4,
       "column_count": 2,
       "columns": [
        {
         "name": "Cantidad(g)",
         "dtype": "float64",
         "stats": {
          "unique_count": 4,
          "nan_count": 0,
          "min": "1097.0",
          "max": "17524.0",
          "histogram": [
           {
            "bin_start": 1097,
            "bin_end": 2739.7,
            "count": 2
           },
           {
            "bin_start": 2739.7,
            "bin_end": 4382.4,
            "count": 1
           },
           {
            "bin_start": 4382.4,
            "bin_end": 6025.1,
            "count": 0
           },
           {
            "bin_start": 6025.1,
            "bin_end": 7667.8,
            "count": 0
           },
           {
            "bin_start": 7667.8,
            "bin_end": 9310.5,
            "count": 0
           },
           {
            "bin_start": 9310.5,
            "bin_end": 10953.2,
            "count": 0
           },
           {
            "bin_start": 10953.2,
            "bin_end": 12595.9,
            "count": 0
           },
           {
            "bin_start": 12595.9,
            "bin_end": 14238.6,
            "count": 0
           },
           {
            "bin_start": 14238.6,
            "bin_end": 15881.300000000001,
            "count": 0
           },
           {
            "bin_start": 15881.300000000001,
            "bin_end": 17524,
            "count": 1
           }
          ]
         }
        },
        {
         "name": "Costo($)",
         "dtype": "float64",
         "stats": {
          "unique_count": 4,
          "nan_count": 0,
          "min": "2822.0",
          "max": "40305.2",
          "histogram": [
           {
            "bin_start": 2822,
            "bin_end": 6570.32,
            "count": 2
           },
           {
            "bin_start": 6570.32,
            "bin_end": 10318.64,
            "count": 1
           },
           {
            "bin_start": 10318.64,
            "bin_end": 14066.96,
            "count": 0
           },
           {
            "bin_start": 14066.96,
            "bin_end": 17815.28,
            "count": 0
           },
           {
            "bin_start": 17815.28,
            "bin_end": 21563.6,
            "count": 0
           },
           {
            "bin_start": 21563.6,
            "bin_end": 25311.92,
            "count": 0
           },
           {
            "bin_start": 25311.92,
            "bin_end": 29060.239999999998,
            "count": 0
           },
           {
            "bin_start": 29060.239999999998,
            "bin_end": 32808.56,
            "count": 0
           },
           {
            "bin_start": 32808.56,
            "bin_end": 36556.88,
            "count": 0
           },
           {
            "bin_start": 36556.88,
            "bin_end": 40305.2,
            "count": 1
           }
          ]
         }
        },
        {
         "name": "_deepnote_index_column",
         "dtype": "object"
        }
       ],
       "rows_top": [
        {
         "Cantidad(g)": 3931,
         "Costo($)": 9434.4,
         "_deepnote_index_column": "Banano"
        },
        {
         "Cantidad(g)": 1097,
         "Costo($)": 4388,
         "_deepnote_index_column": "Naranja"
        },
        {
         "Cantidad(g)": 1660,
         "Costo($)": 2822,
         "_deepnote_index_column": "Papaya"
        },
        {
         "Cantidad(g)": 17524,
         "Costo($)": 40305.2,
         "_deepnote_index_column": "Plátano"
        }
       ],
       "rows_bottom": null
      },
      "text/plain": "             Cantidad(g)  Costo($)\nDescripción                       \nBanano            3931.0    9434.4\nNaranja           1097.0    4388.0\nPapaya            1660.0    2822.0\nPlátano          17524.0   40305.2",
      "text/html": "<div>\n<style scoped>\n    .dataframe tbody tr th:only-of-type {\n        vertical-align: middle;\n    }\n\n    .dataframe tbody tr th {\n        vertical-align: top;\n    }\n\n    .dataframe thead th {\n        text-align: right;\n    }\n</style>\n<table border=\"1\" class=\"dataframe\">\n  <thead>\n    <tr style=\"text-align: right;\">\n      <th></th>\n      <th>Cantidad(g)</th>\n      <th>Costo($)</th>\n    </tr>\n    <tr>\n      <th>Descripción</th>\n      <th></th>\n      <th></th>\n    </tr>\n  </thead>\n  <tbody>\n    <tr>\n      <th>Banano</th>\n      <td>3931.0</td>\n      <td>9434.4</td>\n    </tr>\n    <tr>\n      <th>Naranja</th>\n      <td>1097.0</td>\n      <td>4388.0</td>\n    </tr>\n    <tr>\n      <th>Papaya</th>\n      <td>1660.0</td>\n      <td>2822.0</td>\n    </tr>\n    <tr>\n      <th>Plátano</th>\n      <td>17524.0</td>\n      <td>40305.2</td>\n    </tr>\n  </tbody>\n</table>\n</div>"
     },
     "metadata": {}
    }
   ]
  },
  {
   "cell_type": "code",
   "metadata": {
    "tags": [],
    "cell_id": "00012-7baae983-0dfb-4618-a7ab-798054bf1d29",
    "deepnote_to_be_reexecuted": false,
    "source_hash": "a3acf153",
    "execution_start": 1636910321704,
    "execution_millis": 4,
    "deepnote_cell_type": "code"
   },
   "source": "# sum columns\ndf_fruits.sum()",
   "execution_count": 10,
   "outputs": [
    {
     "output_type": "execute_result",
     "execution_count": 10,
     "data": {
      "text/plain": "Cantidad(g)    24212.0\nCosto($)       56949.6\ndtype: float64"
     },
     "metadata": {}
    }
   ]
  },
  {
   "cell_type": "code",
   "metadata": {
    "tags": [],
    "cell_id": "00013-3053cb93-6ca4-4a13-a572-e97584120f87",
    "deepnote_to_be_reexecuted": false,
    "source_hash": "c7d3bf05",
    "execution_start": 1636910321720,
    "execution_millis": 26,
    "deepnote_cell_type": "code"
   },
   "source": "# mean by month\ndf_month = df.groupby('Mes').sum()",
   "execution_count": 11,
   "outputs": []
  },
  {
   "cell_type": "code",
   "metadata": {
    "tags": [],
    "cell_id": "00014-b95e096b-a074-459d-a39b-caadfb5ceb6b",
    "deepnote_to_be_reexecuted": false,
    "source_hash": "509cf0da",
    "execution_start": 1636910321757,
    "execution_millis": 84,
    "deepnote_cell_type": "code"
   },
   "source": "df_month.describe()",
   "execution_count": 12,
   "outputs": [
    {
     "output_type": "execute_result",
     "execution_count": 12,
     "data": {
      "application/vnd.deepnote.dataframe.v2+json": {
       "row_count": 8,
       "column_count": 2,
       "columns": [
        {
         "name": "Cantidad(g)",
         "dtype": "float64",
         "stats": {
          "unique_count": 8,
          "nan_count": 0,
          "min": "5.0",
          "max": "6639.0",
          "histogram": [
           {
            "bin_start": 5,
            "bin_end": 668.4,
            "count": 1
           },
           {
            "bin_start": 668.4,
            "bin_end": 1331.8,
            "count": 0
           },
           {
            "bin_start": 1331.8,
            "bin_end": 1995.1999999999998,
            "count": 1
           },
           {
            "bin_start": 1995.1999999999998,
            "bin_end": 2658.6,
            "count": 0
           },
           {
            "bin_start": 2658.6,
            "bin_end": 3322,
            "count": 1
           },
           {
            "bin_start": 3322,
            "bin_end": 3985.3999999999996,
            "count": 0
           },
           {
            "bin_start": 3985.3999999999996,
            "bin_end": 4648.8,
            "count": 2
           },
           {
            "bin_start": 4648.8,
            "bin_end": 5312.2,
            "count": 1
           },
           {
            "bin_start": 5312.2,
            "bin_end": 5975.599999999999,
            "count": 1
           },
           {
            "bin_start": 5975.599999999999,
            "bin_end": 6639,
            "count": 1
           }
          ]
         }
        },
        {
         "name": "Costo($)",
         "dtype": "float64",
         "stats": {
          "unique_count": 8,
          "nan_count": 0,
          "min": "5.0",
          "max": "16558.1",
          "histogram": [
           {
            "bin_start": 5,
            "bin_end": 1660.31,
            "count": 1
           },
           {
            "bin_start": 1660.31,
            "bin_end": 3315.62,
            "count": 0
           },
           {
            "bin_start": 3315.62,
            "bin_end": 4970.93,
            "count": 1
           },
           {
            "bin_start": 4970.93,
            "bin_end": 6626.24,
            "count": 0
           },
           {
            "bin_start": 6626.24,
            "bin_end": 8281.55,
            "count": 1
           },
           {
            "bin_start": 8281.55,
            "bin_end": 9936.86,
            "count": 1
           },
           {
            "bin_start": 9936.86,
            "bin_end": 11592.17,
            "count": 2
           },
           {
            "bin_start": 11592.17,
            "bin_end": 13247.48,
            "count": 1
           },
           {
            "bin_start": 13247.48,
            "bin_end": 14902.789999999999,
            "count": 0
           },
           {
            "bin_start": 14902.789999999999,
            "bin_end": 16558.1,
            "count": 1
           }
          ]
         }
        },
        {
         "name": "_deepnote_index_column",
         "dtype": "object"
        }
       ],
       "rows_top": [
        {
         "Cantidad(g)": 5,
         "Costo($)": 5,
         "_deepnote_index_column": "count"
        },
        {
         "Cantidad(g)": 4842.4,
         "Costo($)": 11389.92,
         "_deepnote_index_column": "mean"
        },
        {
         "Cantidad(g)": 1339.3805657840494,
         "Costo($)": 3563.0251812189026,
         "_deepnote_index_column": "std"
        },
        {
         "Cantidad(g)": 3195,
         "Costo($)": 7317.9,
         "_deepnote_index_column": "min"
        },
        {
         "Cantidad(g)": 4198,
         "Costo($)": 9688.100000000002,
         "_deepnote_index_column": "25%"
        },
        {
         "Cantidad(g)": 4500,
         "Costo($)": 10207.9,
         "_deepnote_index_column": "50%"
        },
        {
         "Cantidad(g)": 5680,
         "Costo($)": 13177.6,
         "_deepnote_index_column": "75%"
        },
        {
         "Cantidad(g)": 6639,
         "Costo($)": 16558.1,
         "_deepnote_index_column": "max"
        }
       ],
       "rows_bottom": null
      },
      "text/plain": "       Cantidad(g)      Costo($)\ncount     5.000000      5.000000\nmean   4842.400000  11389.920000\nstd    1339.380566   3563.025181\nmin    3195.000000   7317.900000\n25%    4198.000000   9688.100000\n50%    4500.000000  10207.900000\n75%    5680.000000  13177.600000\nmax    6639.000000  16558.100000",
      "text/html": "<div>\n<style scoped>\n    .dataframe tbody tr th:only-of-type {\n        vertical-align: middle;\n    }\n\n    .dataframe tbody tr th {\n        vertical-align: top;\n    }\n\n    .dataframe thead th {\n        text-align: right;\n    }\n</style>\n<table border=\"1\" class=\"dataframe\">\n  <thead>\n    <tr style=\"text-align: right;\">\n      <th></th>\n      <th>Cantidad(g)</th>\n      <th>Costo($)</th>\n    </tr>\n  </thead>\n  <tbody>\n    <tr>\n      <th>count</th>\n      <td>5.000000</td>\n      <td>5.000000</td>\n    </tr>\n    <tr>\n      <th>mean</th>\n      <td>4842.400000</td>\n      <td>11389.920000</td>\n    </tr>\n    <tr>\n      <th>std</th>\n      <td>1339.380566</td>\n      <td>3563.025181</td>\n    </tr>\n    <tr>\n      <th>min</th>\n      <td>3195.000000</td>\n      <td>7317.900000</td>\n    </tr>\n    <tr>\n      <th>25%</th>\n      <td>4198.000000</td>\n      <td>9688.100000</td>\n    </tr>\n    <tr>\n      <th>50%</th>\n      <td>4500.000000</td>\n      <td>10207.900000</td>\n    </tr>\n    <tr>\n      <th>75%</th>\n      <td>5680.000000</td>\n      <td>13177.600000</td>\n    </tr>\n    <tr>\n      <th>max</th>\n      <td>6639.000000</td>\n      <td>16558.100000</td>\n    </tr>\n  </tbody>\n</table>\n</div>"
     },
     "metadata": {}
    }
   ]
  },
  {
   "cell_type": "code",
   "metadata": {
    "tags": [],
    "cell_id": "00011-786785bd-4109-425d-b1ed-51e3b10edb6b",
    "deepnote_to_be_reexecuted": false,
    "source_hash": "96a7a49a",
    "execution_start": 1636910321852,
    "execution_millis": 874,
    "deepnote_cell_type": "code"
   },
   "source": "df_fruits['Cantidad(g)'].plot.pie(autopct=lambda p:f'{p:.0f} %', figsize=(10, 10), fontsize=12)\nplt.title('Lo que han comido las aves en mi ventana en los cinco últimos meses\\n', size=16)",
   "execution_count": 13,
   "outputs": [
    {
     "output_type": "execute_result",
     "execution_count": 13,
     "data": {
      "text/plain": "Text(0.5, 1.0, 'Lo que han comido las aves en mi ventana en los cinco últimos meses\\n')"
     },
     "metadata": {}
    },
    {
     "data": {
      "text/plain": "<Figure size 720x720 with 1 Axes>",
      "image/png": "[encoded data removed]"
     },
     "metadata": {
      "image/png": {
       "width": 583,
       "height": 594
      }
     },
     "output_type": "display_data"
    }
   ]
  },
  {
   "cell_type": "code",
   "metadata": {
    "tags": [],
    "cell_id": "00012-b063b8b3-9f6a-41ee-a016-516a9b569196",
    "deepnote_to_be_reexecuted": false,
    "source_hash": "f42ccae9",
    "execution_start": 1636910322741,
    "execution_millis": 803,
    "deepnote_cell_type": "code"
   },
   "source": "df_fruits['Costo($)'].plot.pie(autopct=lambda p:f'{p:.0f} %', figsize=(10, 10), fontsize=12)",
   "execution_count": 14,
   "outputs": [
    {
     "output_type": "execute_result",
     "execution_count": 14,
     "data": {
      "text/plain": "<AxesSubplot:ylabel='Costo($)'>"
     },
     "metadata": {}
    },
    {
     "data": {
      "text/plain": "<Figure size 720x720 with 1 Axes>",
      "image/png": "[encoded data removed]"
     },
     "metadata": {
      "image/png": {
       "width": 571,
       "height": 558
      }
     },
     "output_type": "display_data"
    }
   ]
  },
  {
   "cell_type": "markdown",
   "source": "<a style='text-decoration:none;line-height:16px;display:flex;color:#5B5B62;padding:10px;justify-content:end;' href='https://deepnote.com?utm_source=created-in-deepnote-cell&projectId=4a10a3ae-af2e-4ded-9363-bd765cc1ebd3' target=\"_blank\">\n<img alt='Created in deepnote.com' style='display:inline;max-height:16px;margin:0px;margin-right:7.5px;' src='data:image/svg+xml;base64,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' > </img>\nCreated in <span style='font-weight:600;margin-left:4px;'>Deepnote</span></a>",
   "metadata": {
    "tags": [],
    "created_in_deepnote_cell": true,
    "deepnote_cell_type": "markdown"
   }
  }
 ],
 "nbformat": 4,
 "nbformat_minor": 2,
 "metadata": {
  "orig_nbformat": 2,
  "deepnote": {
   "is_reactive": false
  },
  "deepnote_notebook_id": "589f5000-b9ef-44f5-899d-c7762a139827",
  "deepnote_execution_queue": []
 }
}